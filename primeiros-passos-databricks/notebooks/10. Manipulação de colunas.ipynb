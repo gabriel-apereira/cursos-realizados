{
 "cells": [
  {
   "cell_type": "markdown",
   "metadata": {
    "application/vnd.databricks.v1+cell": {
     "cellMetadata": {},
     "inputWidgets": {},
     "nuid": "7a2ca48a-36a9-4f43-9521-473b1ea42f50",
     "showTitle": false,
     "tableResultSettingsMap": {},
     "title": ""
    }
   },
   "source": [
    "###Tipos de dados"
   ]
  },
  {
   "cell_type": "code",
   "execution_count": 0,
   "metadata": {
    "application/vnd.databricks.v1+cell": {
     "cellMetadata": {
      "byteLimit": 2048000,
      "rowLimit": 10000
     },
     "inputWidgets": {},
     "nuid": "793e6976-0313-4490-adbf-bfc57f0fec31",
     "showTitle": false,
     "tableResultSettingsMap": {},
     "title": ""
    }
   },
   "outputs": [],
   "source": [
    "df = spark.read.json('/Volumes/workspace/default/arquivos-cursoudemy/Anac/V_OCORRENCIA_AMPLA.json')\n",
    "display(df)"
   ]
  },
  {
   "cell_type": "code",
   "execution_count": 0,
   "metadata": {
    "application/vnd.databricks.v1+cell": {
     "cellMetadata": {
      "byteLimit": 2048000,
      "rowLimit": 10000
     },
     "inputWidgets": {},
     "nuid": "276e706c-b0af-4029-af4c-1579fe584f35",
     "showTitle": false,
     "tableResultSettingsMap": {},
     "title": ""
    }
   },
   "outputs": [],
   "source": [
    "orders_df = spark.read\\\n",
    "                .format('csv')\\\n",
    "                .option('header','True')\\\n",
    "                .option('InferSchema','True')\\\n",
    "                .load('/Volumes/workspace/default/arquivos-cursoudemy/Bike/orders.csv')\n",
    "display(orders_df)"
   ]
  },
  {
   "cell_type": "code",
   "execution_count": 0,
   "metadata": {
    "application/vnd.databricks.v1+cell": {
     "cellMetadata": {
      "byteLimit": 2048000,
      "rowLimit": 10000
     },
     "inputWidgets": {},
     "nuid": "9c3d2c53-4b86-4033-9429-12d8ff787161",
     "showTitle": false,
     "tableResultSettingsMap": {},
     "title": ""
    }
   },
   "outputs": [],
   "source": [
    "df.printSchema()\n",
    "# (nullable = true), isso indica que alguns dos registros nessa coluna podem ter valores nulos"
   ]
  },
  {
   "cell_type": "code",
   "execution_count": 0,
   "metadata": {
    "application/vnd.databricks.v1+cell": {
     "cellMetadata": {
      "byteLimit": 2048000,
      "rowLimit": 10000
     },
     "inputWidgets": {},
     "nuid": "914c2d82-2fe5-4742-9dee-401c0974573b",
     "showTitle": false,
     "tableResultSettingsMap": {},
     "title": ""
    }
   },
   "outputs": [],
   "source": [
    "orders_df.printSchema()"
   ]
  },
  {
   "cell_type": "code",
   "execution_count": 0,
   "metadata": {
    "application/vnd.databricks.v1+cell": {
     "cellMetadata": {},
     "inputWidgets": {},
     "nuid": "83f00942-61d8-4663-9a60-0c31d6159c74",
     "showTitle": false,
     "tableResultSettingsMap": {},
     "title": ""
    }
   },
   "outputs": [],
   "source": [
    "#Tipos De Dados\n",
    "\"\"\"\n",
    "string ou varchar: Texto.\n",
    "integer ou int:    Numero inteiro.\n",
    "long:              Numero inteiro longo.\n",
    "double:            precisão dupla.\n",
    "float:             precisão simples.\n",
    "decimal:           decimal.\n",
    "timestamp:         Data e hora.\n",
    "date:              Somente a Data.\n",
    "boolean:           booleana (True e False) 0=False e 1=True.\n",
    "\n",
    "\"\"\""
   ]
  },
  {
   "cell_type": "code",
   "execution_count": 0,
   "metadata": {
    "application/vnd.databricks.v1+cell": {
     "cellMetadata": {
      "byteLimit": 2048000,
      "rowLimit": 10000
     },
     "inputWidgets": {},
     "nuid": "61efc5f3-b367-4d12-9727-96aa9c8322e7",
     "showTitle": false,
     "tableResultSettingsMap": {},
     "title": ""
    }
   },
   "outputs": [],
   "source": [
    "#ver nomes das colunas\n",
    "df.columns\n",
    "#ou\n",
    "print(df.columns)"
   ]
  },
  {
   "cell_type": "code",
   "execution_count": 0,
   "metadata": {
    "application/vnd.databricks.v1+cell": {
     "cellMetadata": {
      "byteLimit": 2048000,
      "rowLimit": 10000
     },
     "inputWidgets": {},
     "nuid": "59aa94e3-4090-4905-8ff4-1334a73b8e24",
     "showTitle": false,
     "tableResultSettingsMap": {},
     "title": ""
    }
   },
   "outputs": [],
   "source": [
    "for Loop in df.columns:\n",
    "    print(Loop)"
   ]
  },
  {
   "cell_type": "markdown",
   "metadata": {
    "application/vnd.databricks.v1+cell": {
     "cellMetadata": {},
     "inputWidgets": {},
     "nuid": "0ee75bba-289c-49b8-9cbc-85aac59bdaa5",
     "showTitle": false,
     "tableResultSettingsMap": {},
     "title": ""
    }
   },
   "source": [
    "###Selecionando apenas algumas colunas do Dataframe"
   ]
  },
  {
   "cell_type": "code",
   "execution_count": 0,
   "metadata": {
    "application/vnd.databricks.v1+cell": {
     "cellMetadata": {
      "byteLimit": 2048000,
      "rowLimit": 10000
     },
     "inputWidgets": {},
     "nuid": "bddc57c1-3995-455e-9750-274cb853bc1e",
     "showTitle": false,
     "tableResultSettingsMap": {},
     "title": ""
    }
   },
   "outputs": [],
   "source": [
    "display(df)"
   ]
  },
  {
   "cell_type": "code",
   "execution_count": 0,
   "metadata": {
    "application/vnd.databricks.v1+cell": {
     "cellMetadata": {
      "byteLimit": 2048000,
      "rowLimit": 10000
     },
     "inputWidgets": {},
     "nuid": "08458cc6-b4ef-4514-ae4c-e519dc8138ac",
     "showTitle": false,
     "tableResultSettingsMap": {},
     "title": ""
    }
   },
   "outputs": [],
   "source": [
    "df.columns"
   ]
  },
  {
   "cell_type": "code",
   "execution_count": 0,
   "metadata": {
    "application/vnd.databricks.v1+cell": {
     "cellMetadata": {
      "byteLimit": 2048000,
      "rowLimit": 10000
     },
     "inputWidgets": {},
     "nuid": "dd12fe62-1086-432f-81b0-9d4f07b2a9aa",
     "showTitle": false,
     "tableResultSettingsMap": {},
     "title": ""
    }
   },
   "outputs": [],
   "source": [
    "display(df['Classificacao_da_Ocorrência','Danos_a_Aeronave','UF','Municipio','Ilesos_Passageiros'])"
   ]
  },
  {
   "cell_type": "code",
   "execution_count": 0,
   "metadata": {
    "application/vnd.databricks.v1+cell": {
     "cellMetadata": {
      "byteLimit": 2048000,
      "rowLimit": 10000
     },
     "inputWidgets": {},
     "nuid": "a749af38-d962-4906-bc35-487d063a9587",
     "showTitle": false,
     "tableResultSettingsMap": {},
     "title": ""
    }
   },
   "outputs": [],
   "source": [
    "#salvando em um novo df\n",
    "Filtrado = df['Classificacao_da_Ocorrência','Danos_a_Aeronave','UF','Municipio','Ilesos_Passageiros']\n",
    "display(Filtrado)"
   ]
  },
  {
   "cell_type": "code",
   "execution_count": 0,
   "metadata": {
    "application/vnd.databricks.v1+cell": {
     "cellMetadata": {
      "byteLimit": 2048000,
      "rowLimit": 10000
     },
     "inputWidgets": {},
     "nuid": "da03fd24-de3b-4dd5-abcd-4437ccdd517d",
     "showTitle": false,
     "tableResultSettingsMap": {},
     "title": ""
    }
   },
   "outputs": [],
   "source": [
    " #Criando uma variavel com as colunas (lista)\n",
    "ColunasSelecionadas = [\n",
    "'Categoria_da_Aeronave',\n",
    "'Classificacao_da_Ocorrência',\n",
    "'Danos_a_Aeronave',\n",
    "'Data_da_Ocorrencia',\n",
    "'Descricao_do_Tipo',\n",
    "'Fase_da_Operacao'\n",
    "]\n",
    "\n",
    "display( df[ColunasSelecionadas])"
   ]
  },
  {
   "cell_type": "code",
   "execution_count": 0,
   "metadata": {
    "application/vnd.databricks.v1+cell": {
     "cellMetadata": {
      "byteLimit": 2048000,
      "rowLimit": 10000
     },
     "inputWidgets": {},
     "nuid": "00cd0592-08a4-43e0-a927-84e312f5889b",
     "showTitle": false,
     "tableResultSettingsMap": {},
     "title": ""
    }
   },
   "outputs": [],
   "source": [
    "#Salvando em um novo df\n",
    "#Criando uma variavel com as colunas (lista)\n",
    "ColunasSelecionadas = [\n",
    "'Categoria_da_Aeronave',\n",
    "'Classificacao_da_Ocorrência',\n",
    "'Danos_a_Aeronave',\n",
    "'Data_da_Ocorrencia',\n",
    "'Descricao_do_Tipo',\n",
    "'Fase_da_Operacao'\n",
    "]\n",
    "\n",
    "novo = df[ColunasSelecionadas]\n",
    "\n",
    "display(novo)"
   ]
  },
  {
   "cell_type": "code",
   "execution_count": 0,
   "metadata": {
    "application/vnd.databricks.v1+cell": {
     "cellMetadata": {
      "byteLimit": 2048000,
      "rowLimit": 10000
     },
     "inputWidgets": {},
     "nuid": "162a21a9-5d86-4531-9fcb-f9eb4ac6bb99",
     "showTitle": false,
     "tableResultSettingsMap": {},
     "title": ""
    }
   },
   "outputs": [],
   "source": [
    "#Método SELECT\n",
    "\n",
    "display(df.select('Danos_a_Aeronave','Data_da_Ocorrencia','Operador', 'UF'))"
   ]
  },
  {
   "cell_type": "code",
   "execution_count": 0,
   "metadata": {
    "application/vnd.databricks.v1+cell": {
     "cellMetadata": {
      "byteLimit": 2048000,
      "rowLimit": 10000
     },
     "inputWidgets": {},
     "nuid": "27e92626-779c-453c-942a-4128c1603e19",
     "showTitle": false,
     "tableResultSettingsMap": {},
     "title": ""
    }
   },
   "outputs": [],
   "source": [
    "#Salvar em Df Novo Denovo rsrsrsrs\n",
    "\n",
    "NovoDenovo = df.select('Operacao','Tipo_de_Aerodromo', 'Tipo_de_Ocorrencia', 'UF')\n",
    "display(NovoDenovo)"
   ]
  },
  {
   "cell_type": "markdown",
   "metadata": {
    "application/vnd.databricks.v1+cell": {
     "cellMetadata": {},
     "inputWidgets": {},
     "nuid": "3fcd3fb0-ada7-4731-b01f-a520735c79c7",
     "showTitle": false,
     "tableResultSettingsMap": {},
     "title": ""
    }
   },
   "source": [
    "###Criando novas colunas"
   ]
  },
  {
   "cell_type": "code",
   "execution_count": 0,
   "metadata": {
    "application/vnd.databricks.v1+cell": {
     "cellMetadata": {
      "byteLimit": 2048000,
      "rowLimit": 10000
     },
     "inputWidgets": {},
     "nuid": "648fceed-643c-4297-9265-0a34882117da",
     "showTitle": false,
     "tableResultSettingsMap": {},
     "title": ""
    }
   },
   "outputs": [],
   "source": [
    "df = spark.read.json('/Volumes/workspace/default/arquivos-cursoudemy/Anac/V_OCORRENCIA_AMPLA.json')\n",
    "display(df)"
   ]
  },
  {
   "cell_type": "code",
   "execution_count": 0,
   "metadata": {
    "application/vnd.databricks.v1+cell": {
     "cellMetadata": {
      "byteLimit": 2048000,
      "rowLimit": 10000
     },
     "inputWidgets": {},
     "nuid": "8aa3b529-1039-4e3e-8076-c4987ccb0f10",
     "showTitle": false,
     "tableResultSettingsMap": {},
     "title": ""
    }
   },
   "outputs": [],
   "source": [
    "display(df['Classificacao_da_Ocorrência','UF','Municipio'])"
   ]
  },
  {
   "cell_type": "code",
   "execution_count": 0,
   "metadata": {
    "application/vnd.databricks.v1+cell": {
     "cellMetadata": {
      "byteLimit": 2048000,
      "rowLimit": 10000
     },
     "inputWidgets": {},
     "nuid": "c70204b0-4fce-41dd-8812-125f6d004b71",
     "showTitle": false,
     "tableResultSettingsMap": {},
     "title": ""
    }
   },
   "outputs": [],
   "source": [
    "teste = df['Classificacao_da_Ocorrência','UF','Municipio']"
   ]
  },
  {
   "cell_type": "code",
   "execution_count": 0,
   "metadata": {
    "application/vnd.databricks.v1+cell": {
     "cellMetadata": {
      "byteLimit": 2048000,
      "rowLimit": 10000
     },
     "inputWidgets": {},
     "nuid": "34e4f40a-4ebd-4da9-9333-b4a4cd8bdddc",
     "showTitle": false,
     "tableResultSettingsMap": {},
     "title": ""
    }
   },
   "outputs": [],
   "source": [
    "display(teste)"
   ]
  },
  {
   "cell_type": "code",
   "execution_count": 0,
   "metadata": {
    "application/vnd.databricks.v1+cell": {
     "cellMetadata": {
      "byteLimit": 2048000,
      "rowLimit": 10000
     },
     "inputWidgets": {},
     "nuid": "1d95784b-51b8-4011-894e-76c48a162dbb",
     "showTitle": false,
     "tableResultSettingsMap": {
      "0": {
       "dataGridStateBlob": "{\"version\":1,\"tableState\":{\"columnPinning\":{\"left\":[\"#row_number#\"],\"right\":[]},\"columnSizing\":{},\"columnVisibility\":{}},\"settings\":{\"columns\":{}},\"syncTimestamp\":1753794174407}",
       "filterBlob": null,
       "queryPlanFiltersBlob": null,
       "tableResultIndex": 0
      }
     },
     "title": ""
    }
   },
   "outputs": [],
   "source": [
    "from pyspark.sql.functions import lit\n",
    "display(df.withColumn(\"País\", lit(\"Brasil\")))"
   ]
  },
  {
   "cell_type": "code",
   "execution_count": 0,
   "metadata": {
    "application/vnd.databricks.v1+cell": {
     "cellMetadata": {},
     "inputWidgets": {},
     "nuid": "32615c7d-886b-4d34-99bf-e3b24b13d8b8",
     "showTitle": false,
     "tableResultSettingsMap": {},
     "title": ""
    }
   },
   "outputs": [],
   "source": [
    "#Nova coluna com municipio - UF obs p -  ou qualqer caractere que inserir pode dar erro por nao fazer part do concat \n",
    "#Lit = Trazer o valor literal para a coluna ex uma coluna com todas as linhas com o valor 10 ou com a  palava Brasil \n",
    "\n",
    "from pyspark.sql.functions import concat,lit\n",
    "display(teste.withColumn(\"Municipio_UF\", concat(teste['Municipio'], lit(\" - \"),teste[\"UF\"]  ) )  )"
   ]
  },
  {
   "cell_type": "code",
   "execution_count": 0,
   "metadata": {
    "application/vnd.databricks.v1+cell": {
     "cellMetadata": {
      "byteLimit": 2048000,
      "rowLimit": 10000
     },
     "inputWidgets": {},
     "nuid": "79fdd10c-2086-43ec-bf11-a10b8453c52c",
     "showTitle": false,
     "tableResultSettingsMap": {},
     "title": ""
    }
   },
   "outputs": [],
   "source": [
    "#Salvando em DF\n",
    "from pyspark.sql.functions import concat,lit\n",
    "Tratado = teste.withColumn(\"Municipio_UF\",concat(teste['Municipio'],lit(\" - \"),teste['UF']))\n",
    "display(Tratado)"
   ]
  },
  {
   "cell_type": "code",
   "execution_count": 0,
   "metadata": {
    "application/vnd.databricks.v1+cell": {
     "cellMetadata": {
      "byteLimit": 2048000,
      "rowLimit": 10000
     },
     "inputWidgets": {},
     "nuid": "23ffa670-65a7-4762-8155-e4635f74f531",
     "showTitle": false,
     "tableResultSettingsMap": {
      "0": {
       "dataGridStateBlob": "{\"version\":1,\"tableState\":{\"columnPinning\":{\"left\":[\"#row_number#\"],\"right\":[]},\"columnSizing\":{},\"columnVisibility\":{}},\"settings\":{\"columns\":{}},\"syncTimestamp\":1753794867055}",
       "filterBlob": null,
       "queryPlanFiltersBlob": null,
       "tableResultIndex": 0
      }
     },
     "title": ""
    }
   },
   "outputs": [],
   "source": [
    "#Inserindo mais de uma coluna no mesmo comando exemplo uma coluna com país , outra com Municipio em letra miniscula \n",
    "from pyspark.sql.functions import concat,lit,lower\n",
    "Desafio = teste\\\n",
    "            .withColumn(\"Municipio_UF\",concat(teste['Municipio'],lit(\" - \"),teste['UF']))\\\n",
    "            .withColumn(\"País\",lit('Brasil'))\\\n",
    "            .withColumn(\"Municipio_Minusculo\",lower(teste['Municipio']))\n",
    "display(Desafio)\n"
   ]
  },
  {
   "cell_type": "markdown",
   "metadata": {
    "application/vnd.databricks.v1+cell": {
     "cellMetadata": {},
     "inputWidgets": {},
     "nuid": "45dcc5bd-c548-411b-b576-4e6c8ae47543",
     "showTitle": false,
     "tableResultSettingsMap": {},
     "title": ""
    }
   },
   "source": [
    "###Coluna Condicional"
   ]
  },
  {
   "cell_type": "code",
   "execution_count": 0,
   "metadata": {
    "application/vnd.databricks.v1+cell": {
     "cellMetadata": {
      "byteLimit": 2048000,
      "rowLimit": 10000
     },
     "inputWidgets": {},
     "nuid": "ac291884-eb5b-40e9-9614-806406634d35",
     "showTitle": false,
     "tableResultSettingsMap": {},
     "title": ""
    }
   },
   "outputs": [],
   "source": [
    "df = spark.read.json('/Volumes/workspace/default/arquivos-cursoudemy/Anac/V_OCORRENCIA_AMPLA.json')\n",
    "display(df)"
   ]
  },
  {
   "cell_type": "code",
   "execution_count": 0,
   "metadata": {
    "application/vnd.databricks.v1+cell": {
     "cellMetadata": {
      "byteLimit": 2048000,
      "rowLimit": 10000
     },
     "inputWidgets": {},
     "nuid": "05b9a362-bb0f-4554-8647-195fd14c6457",
     "showTitle": false,
     "tableResultSettingsMap": {},
     "title": ""
    }
   },
   "outputs": [],
   "source": [
    "print(df.columns)\n",
    "#fica menor"
   ]
  },
  {
   "cell_type": "code",
   "execution_count": 0,
   "metadata": {
    "application/vnd.databricks.v1+cell": {
     "cellMetadata": {
      "byteLimit": 2048000,
      "rowLimit": 10000
     },
     "inputWidgets": {},
     "nuid": "28b43ec1-251f-4985-bac5-be0f905029c9",
     "showTitle": false,
     "tableResultSettingsMap": {
      "0": {
       "dataGridStateBlob": "{\"version\":1,\"tableState\":{\"columnPinning\":{\"left\":[\"#row_number#\"],\"right\":[]},\"columnSizing\":{},\"columnVisibility\":{}},\"settings\":{\"columns\":{}},\"syncTimestamp\":1753796509026}",
       "filterBlob": null,
       "queryPlanFiltersBlob": null,
       "tableResultIndex": 0
      }
     },
     "title": ""
    }
   },
   "outputs": [],
   "source": [
    "Regiao = df['Danos_a_Aeronave','UF']\n",
    "display(Regiao)"
   ]
  },
  {
   "cell_type": "code",
   "execution_count": 0,
   "metadata": {
    "application/vnd.databricks.v1+cell": {
     "cellMetadata": {},
     "inputWidgets": {},
     "nuid": "11eeb82a-1db0-430a-8025-8ab1c4fa7df8",
     "showTitle": false,
     "tableResultSettingsMap": {},
     "title": ""
    }
   },
   "outputs": [],
   "source": [
    "#Colinha -> Estado \\ Regiao \n",
    "\"\"\"\n",
    "    'AC': 'Norte',\n",
    "    'AL': 'Nordeste',\n",
    "    'AP': 'Norte',\n",
    "    'AM': 'Norte',\n",
    "    'BA': 'Nordeste',\n",
    "    'CE': 'Nordeste',\n",
    "    'ES': 'Sudeste',\n",
    "    'GO': 'Centro-Oeste',\n",
    "    'MA': 'Nordeste',\n",
    "    'MT': 'Centro-Oeste',\n",
    "    'MS': 'Centro-Oeste',\n",
    "    'MG': 'Sudeste',\n",
    "    'PA': 'Norte',\n",
    "    'PB': 'Nordeste',\n",
    "    'PR': 'Sul',\n",
    "    'PE': 'Nordeste',\n",
    "    'PI': 'Nordeste',\n",
    "    'RJ': 'Sudeste',\n",
    "    'RN': 'Nordeste',\n",
    "    'RS': 'Sul',\n",
    "    'RO': 'Norte',\n",
    "    'RR': 'Norte',\n",
    "    'SC': 'Sul',\n",
    "    'SP': 'Sudeste',\n",
    "    'SE': 'Nordeste',\n",
    "    'TO': 'Norte'\n",
    "\"\"\""
   ]
  },
  {
   "cell_type": "code",
   "execution_count": 0,
   "metadata": {
    "application/vnd.databricks.v1+cell": {
     "cellMetadata": {
      "byteLimit": 2048000,
      "rowLimit": 10000
     },
     "inputWidgets": {},
     "nuid": "64af2ef0-8ec2-4099-95fe-0be7c4c06a88",
     "showTitle": false,
     "tableResultSettingsMap": {
      "0": {
       "dataGridStateBlob": "{\"version\":1,\"tableState\":{\"columnPinning\":{\"left\":[\"#row_number#\"],\"right\":[]},\"columnSizing\":{},\"columnVisibility\":{}},\"settings\":{\"columns\":{}},\"syncTimestamp\":1753796524980}",
       "filterBlob": null,
       "queryPlanFiltersBlob": null,
       "tableResultIndex": 0
      }
     },
     "title": ""
    }
   },
   "outputs": [],
   "source": [
    "#when = quando\n",
    "#otherwise = outra forma (senão)\n",
    "from pyspark.sql.functions import when\n",
    "Regiao = Regiao.withColumn(\"Regiao\", when(Regiao['UF'] == \"MG\", \"Sudeste\").otherwise(\"Outra Regiao\"))\n",
    "display(Regiao)"
   ]
  },
  {
   "cell_type": "code",
   "execution_count": 0,
   "metadata": {
    "application/vnd.databricks.v1+cell": {
     "cellMetadata": {
      "byteLimit": 2048000,
      "rowLimit": 10000
     },
     "inputWidgets": {},
     "nuid": "9d4a1c1c-28ff-4a07-86ca-bab7435f7f6d",
     "showTitle": false,
     "tableResultSettingsMap": {},
     "title": ""
    }
   },
   "outputs": [],
   "source": [
    "#mais de uma condição -> isin - esta em (Dentro de algo), muito utilizado para verificar se os valores de uma coluna ou expressão estão contidos em um conjunto de valores \n",
    "from pyspark.sql.functions import when\n",
    "Regiao = Regiao\\\n",
    "            .withColumn(\"Regiao\",when(Regiao['UF'].isin(\"MG\",\"SP\",\"RJ\",\"ES\"),\"Sudeste\").otherwise(\"Outra Regiao\"))\n",
    "display(Regiao)"
   ]
  },
  {
   "cell_type": "code",
   "execution_count": 0,
   "metadata": {
    "application/vnd.databricks.v1+cell": {
     "cellMetadata": {
      "byteLimit": 2048000,
      "rowLimit": 10000
     },
     "inputWidgets": {},
     "nuid": "7edfc95d-14ea-40be-9c2e-942aa6ea0f82",
     "showTitle": false,
     "tableResultSettingsMap": {},
     "title": ""
    }
   },
   "outputs": [],
   "source": [
    "#Fazendo o mesmo pra regiao Sul\n",
    "\"\"\"\n",
    "    'PR': 'Sul',\n",
    "    'RS': 'Sul',\n",
    "    'SC': 'Sul',\n",
    "\"\"\"\n",
    "from pyspark.sql.functions import when\n",
    "Regiao = Regiao\\\n",
    "            .withColumn(\"Regiao\",\\\n",
    "                when(Regiao['UF'].isin(\"MG\",\"SP\",\"RJ\",\"ES\"),\"Sudeste\")\\\n",
    "                    .when(Regiao['UF'].isin(\"PR\",\"RS\",\"SC\"),\"Sul\")\\\n",
    "                    .otherwise(\"Outra Regiao\"))\\\n",
    "            \n",
    "display(Regiao)\n"
   ]
  },
  {
   "cell_type": "code",
   "execution_count": 0,
   "metadata": {
    "application/vnd.databricks.v1+cell": {
     "cellMetadata": {
      "byteLimit": 2048000,
      "rowLimit": 10000
     },
     "inputWidgets": {},
     "nuid": "e0abaeff-516c-437e-b2ef-baa654e5692f",
     "showTitle": false,
     "tableResultSettingsMap": {},
     "title": ""
    }
   },
   "outputs": [],
   "source": [
    "#Todos estados e regioes\n",
    "from pyspark.sql.functions import when\n",
    "Regiao = Regiao\\\n",
    "            .withColumn(\"Regiao\",\\\n",
    "                when(Regiao['UF'].isin(\"MG\",\"SP\",\"RJ\",\"ES\"),\"Sudeste\")\\\n",
    "                    .when(Regiao['UF'].isin(\"PR\",\"RS\",\"SC\"),\"Sul\")\\\n",
    "                    .when(Regiao['UF'].isin(\"AC\",\"AP\",\"AM\",\"PA\",\"RO\",\"RR\",\"TO\"),\"Norte\")\\\n",
    "                    .when(Regiao['UF'].isin(\"AL\",\"BA\",\"CE\",\"MA\",\"PB\",\"PE\",\"PI\",\"RN\",\"SE\"),\"Nordeste\")\\\n",
    "                    .when(Regiao['UF'].isin(\"DF\",\"GO\",\"MT\",\"MS\"),\"Centro-Oeste\")\\\n",
    "                    .otherwise(\"Outra Regiao\"))\\\n",
    "            \n",
    "display(Regiao)"
   ]
  },
  {
   "cell_type": "code",
   "execution_count": 0,
   "metadata": {
    "application/vnd.databricks.v1+cell": {
     "cellMetadata": {
      "byteLimit": 2048000,
      "rowLimit": 10000
     },
     "inputWidgets": {},
     "nuid": "73ead921-8b1f-4f2a-83f2-38e27357bff6",
     "showTitle": false,
     "tableResultSettingsMap": {},
     "title": ""
    }
   },
   "outputs": [],
   "source": [
    "Regiao.select('Regiao').distinct().show()"
   ]
  },
  {
   "cell_type": "code",
   "execution_count": 0,
   "metadata": {
    "application/vnd.databricks.v1+cell": {
     "cellMetadata": {
      "byteLimit": 2048000,
      "rowLimit": 10000
     },
     "inputWidgets": {},
     "nuid": "da5c0853-71b0-4e05-8544-73909f33c821",
     "showTitle": false,
     "tableResultSettingsMap": {},
     "title": ""
    }
   },
   "outputs": [],
   "source": [
    "display(Regiao.filter(Regiao['Regiao']=='Outra Regiao'))"
   ]
  },
  {
   "cell_type": "markdown",
   "metadata": {
    "application/vnd.databricks.v1+cell": {
     "cellMetadata": {
      "byteLimit": 2048000,
      "rowLimit": 10000
     },
     "inputWidgets": {},
     "nuid": "f6d5b43e-ae0e-4a81-a48e-9817c5eceb2c",
     "showTitle": false,
     "tableResultSettingsMap": {},
     "title": ""
    }
   },
   "source": [
    "###Coluna condicional de valor"
   ]
  },
  {
   "cell_type": "code",
   "execution_count": 0,
   "metadata": {
    "application/vnd.databricks.v1+cell": {
     "cellMetadata": {
      "byteLimit": 2048000,
      "rowLimit": 10000
     },
     "inputWidgets": {},
     "nuid": "ba3ccc2c-d74c-43be-bd8d-2aae6e976eb5",
     "showTitle": false,
     "tableResultSettingsMap": {},
     "title": ""
    }
   },
   "outputs": [],
   "source": [
    "orders_df = spark.read\\\n",
    "            .format(\"csv\")\\\n",
    "            .option(\"header\",\"True\")\\\n",
    "            .option(\"inferSchema\",\"True\")\\\n",
    "            .load(\"/Volumes/workspace/default/arquivos-cursoudemy/Bike/orders.csv\")\n",
    "display(orders_df)"
   ]
  },
  {
   "cell_type": "code",
   "execution_count": 0,
   "metadata": {
    "application/vnd.databricks.v1+cell": {
     "cellMetadata": {
      "byteLimit": 2048000,
      "rowLimit": 10000
     },
     "inputWidgets": {},
     "nuid": "57d75764-3cbf-4747-a92c-e0ca82511907",
     "showTitle": false,
     "tableResultSettingsMap": {},
     "title": ""
    }
   },
   "outputs": [],
   "source": [
    "#Nova coluna de status com categoria\n",
    "from pyspark.sql.functions import when\n",
    "\n",
    "orders_df = orders_df.withColumn(\"Desc_Status\",when(orders_df['order_status']==1,\"Pendente\").otherwise(\"Sem Status\"))\n",
    "display(orders_df)\n"
   ]
  },
  {
   "cell_type": "code",
   "execution_count": 0,
   "metadata": {
    "application/vnd.databricks.v1+cell": {
     "cellMetadata": {
      "byteLimit": 2048000,
      "rowLimit": 10000
     },
     "inputWidgets": {},
     "nuid": "e2ab86d4-d4c2-4f76-8249-6786bde9f4d2",
     "showTitle": false,
     "tableResultSettingsMap": {},
     "title": ""
    }
   },
   "outputs": [],
   "source": [
    "# inserindo Varias condições (Simulando Status de produção)\n",
    "\"\"\"\n",
    "1= Pendente\n",
    "2= Em produção\n",
    "3= Em rota de entrega\n",
    "4= Finalizado\n",
    "\"\"\"\n",
    "from pyspark.sql.functions import when\n",
    "\n",
    "orders_df = orders_df\\\n",
    "                .withColumn(\"Desc_Status\",\\\n",
    "                    when(orders_df['order_status']==1,\"Pendente\")\\\n",
    "                            .when(orders_df['order_status']==2,\"Em produção\")\\\n",
    "                            .when(orders_df['order_status']==3,\"Em rota de entrega\")\\\n",
    "                            .otherwise(\"Finalizado\"))\n",
    "display(orders_df)\n"
   ]
  },
  {
   "cell_type": "code",
   "execution_count": 0,
   "metadata": {
    "application/vnd.databricks.v1+cell": {
     "cellMetadata": {
      "byteLimit": 2048000,
      "rowLimit": 10000
     },
     "inputWidgets": {},
     "nuid": "7bce92aa-198d-4a8f-b190-62776a0e2edc",
     "showTitle": false,
     "tableResultSettingsMap": {},
     "title": ""
    }
   },
   "outputs": [],
   "source": [
    "orders_items = spark.read\\\n",
    "            .format(\"csv\")\\\n",
    "            .option(\"header\",\"True\")\\\n",
    "            .option(\"inferSchema\",\"True\")\\\n",
    "            .load(\"/Volumes/workspace/default/arquivos-cursoudemy/Bike/order_items.csv\")\n",
    "display(orders_items)"
   ]
  },
  {
   "cell_type": "code",
   "execution_count": 0,
   "metadata": {
    "application/vnd.databricks.v1+cell": {
     "cellMetadata": {
      "byteLimit": 2048000,
      "rowLimit": 10000
     },
     "inputWidgets": {},
     "nuid": "91e97f74-fb29-41af-a388-fd44da6a89fd",
     "showTitle": false,
     "tableResultSettingsMap": {},
     "title": ""
    }
   },
   "outputs": [],
   "source": [
    "#Caso for um valor especifico traga uma info\n",
    "from pyspark.sql.functions import when\n",
    "\n",
    "orders_items = orders_items.withColumn(\"Desc_Status\",when(orders_items['list_price']==599.99 , 'valor procurado').otherwise('Não'))\n",
    "display(orders_items)"
   ]
  },
  {
   "cell_type": "code",
   "execution_count": 0,
   "metadata": {
    "application/vnd.databricks.v1+cell": {
     "cellMetadata": {
      "byteLimit": 2048000,
      "rowLimit": 10000
     },
     "inputWidgets": {},
     "nuid": "2aac0b12-23e6-4ab2-bc56-6a00b9e0fa03",
     "showTitle": false,
     "tableResultSettingsMap": {},
     "title": ""
    }
   },
   "outputs": [],
   "source": [
    "display(orders_items.filter(orders_items['Desc_Status']=='valor procurado'))"
   ]
  },
  {
   "cell_type": "code",
   "execution_count": 0,
   "metadata": {
    "application/vnd.databricks.v1+cell": {
     "cellMetadata": {
      "byteLimit": 2048000,
      "rowLimit": 10000
     },
     "inputWidgets": {},
     "nuid": "f028d87a-fa3c-49b4-ae81-6e726c16349c",
     "showTitle": false,
     "tableResultSettingsMap": {
      "0": {
       "dataGridStateBlob": "{\"version\":1,\"tableState\":{\"columnPinning\":{\"left\":[\"#row_number#\"],\"right\":[]},\"columnSizing\":{},\"columnVisibility\":{}},\"settings\":{\"columns\":{}},\"syncTimestamp\":1753806887880}",
       "filterBlob": null,
       "queryPlanFiltersBlob": null,
       "tableResultIndex": 0
      }
     },
     "title": ""
    }
   },
   "outputs": [],
   "source": [
    "#Simulando  Com varios Valores\n",
    "\"\"\"\n",
    "0 a 500    = Barato\n",
    "501 a 1500 = Médio\n",
    "> 1500     = Caro\n",
    "\"\"\"\n",
    "\n",
    "from pyspark.sql.functions import when\n",
    "\n",
    "Taxa = orders_items.withColumn(\"TaxaClientes\",\\\n",
    "                                        when(orders_items['list_price']<=500,\"Barato\")\\\n",
    "                                        .when((orders_items['list_price']>=501) & (orders_items['list_price']<=1500),\"Médio\")\\\n",
    "                                        .otherwise(\"Caro\"))\n",
    "display(Taxa)"
   ]
  },
  {
   "cell_type": "code",
   "execution_count": 0,
   "metadata": {
    "application/vnd.databricks.v1+cell": {
     "cellMetadata": {
      "byteLimit": 2048000,
      "rowLimit": 10000
     },
     "inputWidgets": {},
     "nuid": "978c6fa8-3052-441c-839f-cad43484e552",
     "showTitle": false,
     "tableResultSettingsMap": {},
     "title": ""
    }
   },
   "outputs": [],
   "source": [
    "#Filtros para validar\n",
    "display(Taxa.filter(Taxa['TaxaClientes'] == 'Caro'))"
   ]
  },
  {
   "cell_type": "markdown",
   "metadata": {
    "application/vnd.databricks.v1+cell": {
     "cellMetadata": {},
     "inputWidgets": {},
     "nuid": "cad7b553-19ba-47bd-a6c9-d26492745a7e",
     "showTitle": false,
     "tableResultSettingsMap": {},
     "title": ""
    }
   },
   "source": [
    "### Comando Sql para Selecionar Colunas e Criar Novas "
   ]
  },
  {
   "cell_type": "code",
   "execution_count": 0,
   "metadata": {
    "application/vnd.databricks.v1+cell": {
     "cellMetadata": {
      "byteLimit": 2048000,
      "rowLimit": 10000
     },
     "inputWidgets": {},
     "nuid": "152dbb5c-5c27-4d26-a5ee-91a939a8e2b5",
     "showTitle": false,
     "tableResultSettingsMap": {},
     "title": ""
    }
   },
   "outputs": [],
   "source": [
    "df = spark.read.json('/Volumes/workspace/default/arquivos-cursoudemy/Anac/V_OCORRENCIA_AMPLA.json')\n",
    "display(df)"
   ]
  },
  {
   "cell_type": "code",
   "execution_count": 0,
   "metadata": {
    "application/vnd.databricks.v1+cell": {
     "cellMetadata": {
      "byteLimit": 2048000,
      "rowLimit": 10000
     },
     "inputWidgets": {},
     "nuid": "67c9fcc8-5eeb-4790-9583-8eeeee29974f",
     "showTitle": false,
     "tableResultSettingsMap": {},
     "title": ""
    }
   },
   "outputs": [],
   "source": [
    "print(df.columns)"
   ]
  },
  {
   "cell_type": "code",
   "execution_count": 0,
   "metadata": {
    "application/vnd.databricks.v1+cell": {
     "cellMetadata": {
      "byteLimit": 2048000,
      "rowLimit": 10000
     },
     "inputWidgets": {},
     "nuid": "0db21f1f-afa5-4f42-87b3-8de391ffa1a3",
     "showTitle": false,
     "tableResultSettingsMap": {},
     "title": ""
    }
   },
   "outputs": [],
   "source": [
    "#Inserindo em uma tabela temporaria\n",
    "df.createOrReplaceTempView('Anac')"
   ]
  },
  {
   "cell_type": "code",
   "execution_count": 0,
   "metadata": {
    "application/vnd.databricks.v1+cell": {
     "cellMetadata": {
      "byteLimit": 2048000,
      "rowLimit": 10000
     },
     "inputWidgets": {},
     "nuid": "d7509a28-b8a0-46bc-97f9-dfa8a87b1afe",
     "showTitle": false,
     "tableResultSettingsMap": {},
     "title": ""
    }
   },
   "outputs": [],
   "source": [
    "#Selecionando algumas colunas\n",
    "Novodf = spark.sql(\n",
    "\"\"\"\n",
    "select\n",
    "Danos_a_Aeronave\n",
    ",Municipio\n",
    ",UF\n",
    " from anac \n",
    "\n",
    "\"\"\"\n",
    ")\n",
    "display(Novodf)"
   ]
  },
  {
   "cell_type": "code",
   "execution_count": 0,
   "metadata": {
    "application/vnd.databricks.v1+cell": {
     "cellMetadata": {
      "byteLimit": 2048000,
      "rowLimit": 10000
     },
     "inputWidgets": {},
     "nuid": "3bf368d5-e079-4621-bc33-13fc59dedef4",
     "showTitle": false,
     "tableResultSettingsMap": {},
     "title": ""
    }
   },
   "outputs": [],
   "source": [
    "#Coluna condicional  \"MG\",\"SP\",\"RJ\",\"ES\"=  \"Sudeste\"\n",
    "Novodf = spark.sql(\n",
    "\"\"\"\n",
    "select\n",
    "Danos_a_Aeronave\n",
    ",Municipio\n",
    ",UF\n",
    ",Case\n",
    "   when UF in ('MG','SP','RJ','ES')  then 'Sudeste'\n",
    "   else 'Sem Regiao'\n",
    "   end as Regiao\n",
    "\n",
    "from anac \n",
    "\n",
    "\"\"\"\n",
    ")\n",
    "display(Novodf)"
   ]
  },
  {
   "cell_type": "code",
   "execution_count": 0,
   "metadata": {
    "application/vnd.databricks.v1+cell": {
     "cellMetadata": {
      "byteLimit": 2048000,
      "rowLimit": 10000
     },
     "inputWidgets": {},
     "nuid": "450bad92-0271-4e5e-867c-bf077f63416b",
     "showTitle": false,
     "tableResultSettingsMap": {},
     "title": ""
    }
   },
   "outputs": [],
   "source": [
    "#Coluna condicional  \"MG\",\"SP\",\"RJ\",\"ES\"=  \"Sudeste\" e 'PR',RS,SC = Sul \n",
    "\n",
    "Novodf = spark.sql(\n",
    "\"\"\"\n",
    "select\n",
    "Danos_a_Aeronave\n",
    ",Municipio\n",
    ",UF\n",
    ",Case\n",
    "   when UF in ('MG','SP','RJ','ES')  then 'Sudeste'\n",
    "   when UF in ('PR','RS','SC')  then 'Sul'\n",
    "   else 'Sem Regiao'\n",
    "   end as Regiao\n",
    "\n",
    "from anac \n",
    "\n",
    "\"\"\"\n",
    ")\n",
    "display(Novodf)"
   ]
  },
  {
   "cell_type": "code",
   "execution_count": 0,
   "metadata": {
    "application/vnd.databricks.v1+cell": {
     "cellMetadata": {
      "byteLimit": 2048000,
      "rowLimit": 10000
     },
     "inputWidgets": {},
     "nuid": "9743ef1a-3103-450b-abd9-4322bc7cb3ee",
     "showTitle": false,
     "tableResultSettingsMap": {},
     "title": ""
    }
   },
   "outputs": [],
   "source": [
    "#Filtro para Validar no Df e voce faça para os demais para treinar (pode ser filtro na consulta tambem )\n",
    "\"\"\"\n",
    "Case= Caso\n",
    "when= Quando\n",
    "else= Senão\n",
    "end= Fim \n",
    "\"\"\"\n",
    "display(Novodf.filter(Novodf.Regiao ==  'Sudeste' ))\n",
    "\n"
   ]
  },
  {
   "cell_type": "markdown",
   "metadata": {
    "application/vnd.databricks.v1+cell": {
     "cellMetadata": {},
     "inputWidgets": {},
     "nuid": "70af7a67-c045-4e76-8848-cf46947be27e",
     "showTitle": false,
     "tableResultSettingsMap": {},
     "title": ""
    }
   },
   "source": [
    "###Criando coluna condicional de Valor "
   ]
  },
  {
   "cell_type": "code",
   "execution_count": 0,
   "metadata": {
    "application/vnd.databricks.v1+cell": {
     "cellMetadata": {
      "byteLimit": 2048000,
      "rowLimit": 10000
     },
     "inputWidgets": {},
     "nuid": "f2b706f5-a9a1-440d-941b-97803da62b62",
     "showTitle": false,
     "tableResultSettingsMap": {},
     "title": ""
    }
   },
   "outputs": [],
   "source": [
    "order_items = spark.read\\\n",
    "            .format(\"csv\")\\\n",
    "            .option(\"header\",\"True\")\\\n",
    "            .option(\"inferSchema\",\"True\")\\\n",
    "            .load(\"/Volumes/workspace/default/arquivos-cursoudemy/Bike/order_items.csv\")\n",
    "display(order_items)"
   ]
  },
  {
   "cell_type": "code",
   "execution_count": 0,
   "metadata": {
    "application/vnd.databricks.v1+cell": {
     "cellMetadata": {
      "byteLimit": 2048000,
      "rowLimit": 10000
     },
     "inputWidgets": {},
     "nuid": "0ea3a606-1323-4349-9e1e-b95ef79ed181",
     "showTitle": false,
     "tableResultSettingsMap": {},
     "title": ""
    }
   },
   "outputs": [],
   "source": [
    "#Inserindo em tabela temporaria para rodar SQL\n",
    "order_items.createOrReplaceTempView(\"Vendas\")"
   ]
  },
  {
   "cell_type": "code",
   "execution_count": 0,
   "metadata": {
    "application/vnd.databricks.v1+cell": {
     "cellMetadata": {
      "byteLimit": 2048000,
      "rowLimit": 10000
     },
     "inputWidgets": {},
     "nuid": "3e49cfcf-d5db-4648-901f-1ee46aa1c65a",
     "showTitle": false,
     "tableResultSettingsMap": {
      "0": {
       "dataGridStateBlob": "{\"version\":1,\"tableState\":{\"columnPinning\":{\"left\":[\"#row_number#\"],\"right\":[]},\"columnSizing\":{},\"columnVisibility\":{}},\"settings\":{\"columns\":{}},\"syncTimestamp\":1753813683064}",
       "filterBlob": null,
       "queryPlanFiltersBlob": null,
       "tableResultIndex": 0
      }
     },
     "title": ""
    }
   },
   "outputs": [],
   "source": [
    "# Consulta Para identificar tipo de cliente a partir da quantidade de compra \n",
    "Testevendas = spark.sql(\n",
    "\"\"\"\n",
    "select *\n",
    ",Case \n",
    "    when quantity = 1 then 'Mâo de Vaca'\n",
    "    --when quantity = 2 then 'Top'\n",
    "    else 'Top'\n",
    "    end TipoCliente\n",
    "from Vendas\n",
    "\"\"\"\n",
    "\n",
    ")\n",
    "display(Testevendas)"
   ]
  },
  {
   "cell_type": "code",
   "execution_count": 0,
   "metadata": {
    "application/vnd.databricks.v1+cell": {
     "cellMetadata": {
      "byteLimit": 2048000,
      "rowLimit": 10000
     },
     "inputWidgets": {},
     "nuid": "b43d75db-6652-4b7c-a6d8-5dc855214fb5",
     "showTitle": false,
     "tableResultSettingsMap": {},
     "title": ""
    }
   },
   "outputs": [],
   "source": [
    "#Classificação por faixa de Preço\n",
    "\"\"\"\n",
    "0 a 500    = Barato\n",
    "501 a 1500 = Médio\n",
    "> 1500     = Caro\n",
    "\"\"\"\n",
    "\n",
    "Testevendas = spark.sql(\n",
    "\"\"\"\n",
    "select *\n",
    ", case \n",
    "    when list_price between   0 and 500 then 'Barato'\n",
    "    when list_price between 501 and 1500 then 'Médio'\n",
    "    when list_price > 1500 then 'Médio'\n",
    "    else 'Sem Perfil' \n",
    "    end as PerfilProduto\n",
    " from Vendas\n",
    "\"\"\"\n",
    "\n",
    ")\n",
    "display(Testevendas)"
   ]
  },
  {
   "cell_type": "code",
   "execution_count": 0,
   "metadata": {
    "application/vnd.databricks.v1+cell": {
     "cellMetadata": {},
     "inputWidgets": {},
     "nuid": "bb4b9814-8d93-4280-941c-276ed8d25299",
     "showTitle": false,
     "tableResultSettingsMap": {},
     "title": ""
    }
   },
   "outputs": [],
   "source": []
  }
 ],
 "metadata": {
  "application/vnd.databricks.v1+notebook": {
   "computePreferences": null,
   "dashboards": [],
   "environmentMetadata": {
    "base_environment": "",
    "environment_version": "2"
   },
   "inputWidgetPreferences": null,
   "language": "python",
   "notebookMetadata": {
    "pythonIndentUnit": 4
   },
   "notebookName": "10. Manipulação de colunas",
   "widgets": {}
  },
  "language_info": {
   "name": "python"
  }
 },
 "nbformat": 4,
 "nbformat_minor": 0
}