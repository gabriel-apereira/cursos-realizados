{
 "cells": [
  {
   "cell_type": "code",
   "execution_count": 0,
   "metadata": {
    "application/vnd.databricks.v1+cell": {
     "cellMetadata": {
      "byteLimit": 2048000,
      "rowLimit": 10000
     },
     "inputWidgets": {},
     "nuid": "d8d32f61-b508-4ae2-8743-6b98537a6694",
     "showTitle": false,
     "tableResultSettingsMap": {},
     "title": ""
    }
   },
   "outputs": [],
   "source": [
    "#Entrada arquivo parquet\n",
    "dfpq = spark.read.parquet('/Volumes/workspace/default/arquivos-cursoudemy/Anac/V_OCORRENCIA_AMPLA.parquet/')\n",
    "display(dfpq)"
   ]
  },
  {
   "cell_type": "code",
   "execution_count": 0,
   "metadata": {
    "application/vnd.databricks.v1+cell": {
     "cellMetadata": {
      "byteLimit": 2048000,
      "rowLimit": 10000
     },
     "inputWidgets": {},
     "nuid": "d50db81b-dc45-4e5f-99c6-af75818efb6a",
     "showTitle": false,
     "tableResultSettingsMap": {},
     "title": ""
    }
   },
   "outputs": [],
   "source": [
    "#Verificado dados unicos de colunas\n",
    "display(dfpq.select('Classificacao_da_Ocorrência').distinct())"
   ]
  },
  {
   "cell_type": "code",
   "execution_count": 0,
   "metadata": {
    "application/vnd.databricks.v1+cell": {
     "cellMetadata": {
      "byteLimit": 2048000,
      "rowLimit": 10000
     },
     "inputWidgets": {},
     "nuid": "e6f666b5-4a7f-494a-b685-2344edcf142b",
     "showTitle": false,
     "tableResultSettingsMap": {},
     "title": ""
    }
   },
   "outputs": [],
   "source": [
    "dfpq.write\\\n",
    "    .partitionBy(\"Classificacao_da_Ocorrência\")\\\n",
    "    .mode(\"overwrite\")\\\n",
    "    .parquet('/Volumes/workspace/default/arquivos-cursoudemy/Anac/parquet_particionado')"
   ]
  },
  {
   "cell_type": "code",
   "execution_count": 0,
   "metadata": {
    "application/vnd.databricks.v1+cell": {
     "cellMetadata": {
      "byteLimit": 2048000,
      "rowLimit": 10000
     },
     "inputWidgets": {},
     "nuid": "2e55c557-dd49-4675-a7fa-eb21fd85e055",
     "showTitle": false,
     "tableResultSettingsMap": {},
     "title": ""
    }
   },
   "outputs": [],
   "source": [
    "%fs ls /Volumes/workspace/default/arquivos-cursoudemy/Anac"
   ]
  },
  {
   "cell_type": "markdown",
   "metadata": {
    "application/vnd.databricks.v1+cell": {
     "cellMetadata": {},
     "inputWidgets": {},
     "nuid": "c956e997-c346-4b26-864d-7fd42872618f",
     "showTitle": false,
     "tableResultSettingsMap": {},
     "title": ""
    }
   },
   "source": [
    "Vendo arquivos particionados"
   ]
  },
  {
   "cell_type": "code",
   "execution_count": 0,
   "metadata": {
    "application/vnd.databricks.v1+cell": {
     "cellMetadata": {
      "byteLimit": 2048000,
      "rowLimit": 10000
     },
     "inputWidgets": {},
     "nuid": "c6637b85-348a-4ae5-a386-788456b4d861",
     "showTitle": false,
     "tableResultSettingsMap": {},
     "title": ""
    }
   },
   "outputs": [],
   "source": [
    "%fs ls dbfs:/Volumes/workspace/default/arquivos-cursoudemy/Anac/parquet_particionado/"
   ]
  },
  {
   "cell_type": "code",
   "execution_count": 0,
   "metadata": {
    "application/vnd.databricks.v1+cell": {
     "cellMetadata": {
      "byteLimit": 2048000,
      "rowLimit": 10000
     },
     "inputWidgets": {},
     "nuid": "1081845a-c703-4eb4-98b1-414d67aac052",
     "showTitle": false,
     "tableResultSettingsMap": {},
     "title": ""
    }
   },
   "outputs": [],
   "source": [
    "%fs ls dbfs:/Volumes/workspace/default/arquivos-cursoudemy/Anac/parquet_particionado/Classificacao_da_Ocorrência=Acidente/\n"
   ]
  },
  {
   "cell_type": "markdown",
   "metadata": {
    "application/vnd.databricks.v1+cell": {
     "cellMetadata": {},
     "inputWidgets": {},
     "nuid": "60b19cb8-5156-47bd-bc24-43c611f7169b",
     "showTitle": false,
     "tableResultSettingsMap": {},
     "title": ""
    }
   },
   "source": [
    "Lendo arquivo particionado"
   ]
  },
  {
   "cell_type": "code",
   "execution_count": 0,
   "metadata": {
    "application/vnd.databricks.v1+cell": {
     "cellMetadata": {
      "byteLimit": 2048000,
      "rowLimit": 10000
     },
     "inputWidgets": {},
     "nuid": "d26c4221-0950-4e0a-ad05-80a58a5710f0",
     "showTitle": false,
     "tableResultSettingsMap": {},
     "title": ""
    }
   },
   "outputs": [],
   "source": [
    "dfacidente = spark.read.parquet(\"/Volumes/workspace/default/arquivos-cursoudemy/Anac/parquet_particionado/Classificacao_da_Ocorrência=Ocorrência de Solo/\")\n",
    "display(dfacidente)"
   ]
  },
  {
   "cell_type": "markdown",
   "metadata": {
    "application/vnd.databricks.v1+cell": {
     "cellMetadata": {},
     "inputWidgets": {},
     "nuid": "0a149b78-4ae9-4be8-8fda-fa47bcdf92ad",
     "showTitle": false,
     "tableResultSettingsMap": {},
     "title": ""
    }
   },
   "source": [
    "Lendo todos os dados juntos (Union)"
   ]
  },
  {
   "cell_type": "code",
   "execution_count": 0,
   "metadata": {
    "application/vnd.databricks.v1+cell": {
     "cellMetadata": {
      "byteLimit": 2048000,
      "rowLimit": 10000
     },
     "inputWidgets": {},
     "nuid": "ca3ff148-bea7-4146-b8a7-ece56aadb50a",
     "showTitle": false,
     "tableResultSettingsMap": {},
     "title": ""
    }
   },
   "outputs": [],
   "source": [
    "dftudo = spark.read\\\n",
    "     .format('parquet')\\\n",
    "         .load('/Volumes/workspace/default/arquivos-cursoudemy/Anac/parquet_particionado')\n",
    "display(dftudo)"
   ]
  },
  {
   "cell_type": "markdown",
   "metadata": {
    "application/vnd.databricks.v1+cell": {
     "cellMetadata": {},
     "inputWidgets": {},
     "nuid": "271ebaa4-5494-46ad-913a-834d69424cc1",
     "showTitle": false,
     "tableResultSettingsMap": {},
     "title": ""
    }
   },
   "source": [
    "Multiplas partições"
   ]
  },
  {
   "cell_type": "code",
   "execution_count": 0,
   "metadata": {
    "application/vnd.databricks.v1+cell": {
     "cellMetadata": {
      "byteLimit": 2048000,
      "rowLimit": 10000
     },
     "inputWidgets": {},
     "nuid": "b41d7719-98c3-4316-9f45-4a6c7f303fb1",
     "showTitle": false,
     "tableResultSettingsMap": {},
     "title": ""
    }
   },
   "outputs": [],
   "source": [
    "#exemplo , uma equipe de cada estado analisa as \"Classificacao da Ocorrência\" e cada uma das ocorrencias é analizado por uma pessoa\n",
    "#Separarar (particionar por Classificacao da Ocorrência e estado)\n",
    "\n",
    "\n",
    "dfpq.write \\\n",
    "    .partitionBy(\"UF\",\"Classificacao_da_Ocorrência\") \\\n",
    "    .mode(\"overwrite\") \\\n",
    "    .parquet(\"/Volumes/workspace/default/arquivos-cursoudemy/Anac/parquet_Multiparticionado\")\n",
    "\n",
    "#Obs: pode demorar na escrita devido aos particionamentos , mas ganha tempo na leitura "
   ]
  },
  {
   "cell_type": "code",
   "execution_count": 0,
   "metadata": {
    "application/vnd.databricks.v1+cell": {
     "cellMetadata": {
      "byteLimit": 2048000,
      "rowLimit": 10000
     },
     "inputWidgets": {},
     "nuid": "20b3d31f-1d32-4a77-83c5-c0bd8d6298e0",
     "showTitle": false,
     "tableResultSettingsMap": {},
     "title": ""
    }
   },
   "outputs": [],
   "source": [
    "%fs ls /Volumes/workspace/default/arquivos-cursoudemy/Anac"
   ]
  },
  {
   "cell_type": "code",
   "execution_count": 0,
   "metadata": {
    "application/vnd.databricks.v1+cell": {
     "cellMetadata": {
      "byteLimit": 2048000,
      "rowLimit": 10000
     },
     "inputWidgets": {},
     "nuid": "f599bcc5-c483-4da0-896d-9d9c4411fc81",
     "showTitle": false,
     "tableResultSettingsMap": {},
     "title": ""
    }
   },
   "outputs": [],
   "source": [
    "%fs ls dbfs:/Volumes/workspace/default/arquivos-cursoudemy/Anac/parquet_Multiparticionado/"
   ]
  },
  {
   "cell_type": "code",
   "execution_count": 0,
   "metadata": {
    "application/vnd.databricks.v1+cell": {
     "cellMetadata": {
      "byteLimit": 2048000,
      "rowLimit": 10000
     },
     "inputWidgets": {},
     "nuid": "345a7096-a3e0-47ac-b578-ef1749f3852e",
     "showTitle": false,
     "tableResultSettingsMap": {},
     "title": ""
    }
   },
   "outputs": [],
   "source": [
    "%fs ls dbfs:/Volumes/workspace/default/arquivos-cursoudemy/Anac/parquet_Multiparticionado/UF=MG/"
   ]
  },
  {
   "cell_type": "code",
   "execution_count": 0,
   "metadata": {
    "application/vnd.databricks.v1+cell": {
     "cellMetadata": {
      "byteLimit": 2048000,
      "rowLimit": 10000
     },
     "inputWidgets": {},
     "nuid": "87a38a93-8485-4418-95ee-7ef89fff3d2b",
     "showTitle": false,
     "tableResultSettingsMap": {},
     "title": ""
    }
   },
   "outputs": [],
   "source": [
    "%fs ls dbfs:/Volumes/workspace/default/arquivos-cursoudemy/Anac/parquet_Multiparticionado/UF=MG/Classificacao_da_Ocorrência=Acidente/"
   ]
  },
  {
   "cell_type": "code",
   "execution_count": 0,
   "metadata": {
    "application/vnd.databricks.v1+cell": {
     "cellMetadata": {},
     "inputWidgets": {},
     "nuid": "18ae51ce-bc64-420f-8cd1-c1fa6853d70a",
     "showTitle": false,
     "tableResultSettingsMap": {},
     "title": ""
    }
   },
   "outputs": [],
   "source": [
    "#simulando o responsavel de Mg onde a Classificacao da Ocorrência seja igual a Acidente trabalharia com o arquivo \n",
    "#dbfs:/Volumes/workspace/default/arquivos-cursoudemy/Anac/parquet_Multiparticionado/UF=MG/Classificacao_da_Ocorrência=Acidente/\n",
    "#e nao todo o arquivo original , ganhando performace na leitura "
   ]
  },
  {
   "cell_type": "code",
   "execution_count": 0,
   "metadata": {
    "application/vnd.databricks.v1+cell": {
     "cellMetadata": {
      "byteLimit": 2048000,
      "rowLimit": 10000
     },
     "inputWidgets": {},
     "nuid": "ddb49ace-9609-4a1a-bc26-d1cf6ad9e91e",
     "showTitle": false,
     "tableResultSettingsMap": {},
     "title": ""
    }
   },
   "outputs": [],
   "source": [
    "dfAcidenteMG = spark.read\\\n",
    "    .format('parquet')\\\n",
    "        .load('/Volumes/workspace/default/arquivos-cursoudemy/Anac/parquet_Multiparticionado/UF=MG/Classificacao_da_Ocorrência=Acidente/')\n",
    "display(dfAcidenteMG)"
   ]
  },
  {
   "cell_type": "code",
   "execution_count": 0,
   "metadata": {
    "application/vnd.databricks.v1+cell": {
     "cellMetadata": {},
     "inputWidgets": {},
     "nuid": "174563aa-970c-4b94-9a9a-e528a9364114",
     "showTitle": false,
     "tableResultSettingsMap": {},
     "title": ""
    }
   },
   "outputs": [],
   "source": []
  }
 ],
 "metadata": {
  "application/vnd.databricks.v1+notebook": {
   "computePreferences": null,
   "dashboards": [],
   "environmentMetadata": {
    "base_environment": "",
    "environment_version": "2"
   },
   "inputWidgetPreferences": null,
   "language": "python",
   "notebookMetadata": {
    "mostRecentlyExecutedCommandWithImplicitDF": {
     "commandId": 6335937114648230,
     "dataframes": [
      "_sqldf"
     ]
    },
    "pythonIndentUnit": 4
   },
   "notebookName": "07. Parquet Particionamento",
   "widgets": {}
  },
  "language_info": {
   "name": "python"
  }
 },
 "nbformat": 4,
 "nbformat_minor": 0
}