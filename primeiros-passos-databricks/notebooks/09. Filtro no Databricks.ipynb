{
 "cells": [
  {
   "cell_type": "code",
   "execution_count": 0,
   "metadata": {
    "application/vnd.databricks.v1+cell": {
     "cellMetadata": {
      "byteLimit": 2048000,
      "rowLimit": 10000
     },
     "inputWidgets": {},
     "nuid": "19ec952a-5fad-48c7-aa77-535692251f6b",
     "showTitle": false,
     "tableResultSettingsMap": {},
     "title": ""
    }
   },
   "outputs": [],
   "source": [
    "df = spark.read.json(\"/Volumes/workspace/default/arquivos-cursoudemy/Anac/V_OCORRENCIA_AMPLA.json\")\n",
    "display(df)"
   ]
  },
  {
   "cell_type": "markdown",
   "metadata": {
    "application/vnd.databricks.v1+cell": {
     "cellMetadata": {},
     "inputWidgets": {},
     "nuid": "cf93c26f-1b4d-401c-b6c2-675fc7a18204",
     "showTitle": false,
     "tableResultSettingsMap": {},
     "title": ""
    }
   },
   "source": [
    "##Filtros de texto\n",
    "\n",
    "Sintaxe(Filter)"
   ]
  },
  {
   "cell_type": "code",
   "execution_count": 0,
   "metadata": {
    "application/vnd.databricks.v1+cell": {
     "cellMetadata": {},
     "inputWidgets": {},
     "nuid": "c2ef8508-e765-4b28-bc27-28237970ba6c",
     "showTitle": false,
     "tableResultSettingsMap": {},
     "title": ""
    }
   },
   "outputs": [],
   "source": [
    "# Para guardar\n",
    "\"\"\"\n",
    "\n",
    "& = \"E\" lógico  ,  tem que cumprir todos os criterios para retornar o resultado 1° filtro e o 2° filtro o que tiver resultado igual nos 2 criterios ele vai trazer \n",
    "| = \"OU\" lógico , quando obedecer um criterio ou o outro ele vai trazer \n",
    "== (igual)\n",
    "!= (significa diferente)\n",
    "\n",
    "Nomes \n",
    "& = e comercial\n",
    "| = \"barra vertical\" ou \"pipe\". \n",
    "\n",
    "\"\"\""
   ]
  },
  {
   "cell_type": "code",
   "execution_count": 0,
   "metadata": {
    "application/vnd.databricks.v1+cell": {
     "cellMetadata": {
      "byteLimit": 2048000,
      "rowLimit": 10000
     },
     "inputWidgets": {},
     "nuid": "b0c5b02b-32b7-4522-bb63-2d925e83f534",
     "showTitle": false,
     "tableResultSettingsMap": {},
     "title": ""
    }
   },
   "outputs": [],
   "source": [
    "#filter (coluna, valor) como UF é string entao deve estar entre aspas\n",
    "df.filter(df.UF == 'MG')"
   ]
  },
  {
   "cell_type": "code",
   "execution_count": 0,
   "metadata": {
    "application/vnd.databricks.v1+cell": {
     "cellMetadata": {
      "byteLimit": 2048000,
      "rowLimit": 10000
     },
     "inputWidgets": {},
     "nuid": "2391e2c2-8e37-4052-b71e-0fed9701a2c7",
     "showTitle": false,
     "tableResultSettingsMap": {},
     "title": ""
    }
   },
   "outputs": [],
   "source": [
    "#Colocar display visualiza os dados sem sobrescrever o df\n",
    "display(df.filter(df.UF == 'MG'))"
   ]
  },
  {
   "cell_type": "code",
   "execution_count": 0,
   "metadata": {
    "application/vnd.databricks.v1+cell": {
     "cellMetadata": {
      "byteLimit": 2048000,
      "rowLimit": 10000
     },
     "inputWidgets": {},
     "nuid": "8517868c-6823-4747-b0f4-00df68e0298a",
     "showTitle": false,
     "tableResultSettingsMap": {},
     "title": ""
    }
   },
   "outputs": [],
   "source": [
    "#Salvando em um novo df\n",
    "df_MG = df.filter(df.UF == 'MG')\n",
    "display(df_MG)"
   ]
  },
  {
   "cell_type": "code",
   "execution_count": 0,
   "metadata": {
    "application/vnd.databricks.v1+cell": {
     "cellMetadata": {},
     "inputWidgets": {},
     "nuid": "b7c10bbe-1d3b-498d-a95d-b0d1d805b238",
     "showTitle": false,
     "tableResultSettingsMap": {},
     "title": ""
    }
   },
   "outputs": [],
   "source": [
    "#Sobrescrever o df original \n",
    "'df = df.filter(df.UF == \"MG\")'\n",
    "'display(df)'"
   ]
  },
  {
   "cell_type": "markdown",
   "metadata": {
    "application/vnd.databricks.v1+cell": {
     "cellMetadata": {},
     "inputWidgets": {},
     "nuid": "96337b92-e89e-481f-9010-23e5f110e60e",
     "showTitle": false,
     "tableResultSettingsMap": {},
     "title": ""
    }
   },
   "source": [
    "###Vários critérios no filtro"
   ]
  },
  {
   "cell_type": "code",
   "execution_count": 0,
   "metadata": {
    "application/vnd.databricks.v1+cell": {
     "cellMetadata": {
      "byteLimit": 2048000,
      "rowLimit": 10000
     },
     "inputWidgets": {},
     "nuid": "006b9dc5-7d9c-4a43-9b89-e6bfbf497a8a",
     "showTitle": false,
     "tableResultSettingsMap": {},
     "title": ""
    }
   },
   "outputs": [],
   "source": [
    "#Se sobrescreveu pegar o json original novamente no df\n",
    "display(df)"
   ]
  },
  {
   "cell_type": "code",
   "execution_count": 0,
   "metadata": {
    "application/vnd.databricks.v1+cell": {
     "cellMetadata": {
      "byteLimit": 2048000,
      "rowLimit": 10000
     },
     "inputWidgets": {},
     "nuid": "47cc5a0f-9e48-449b-9a60-f19e08afa89b",
     "showTitle": false,
     "tableResultSettingsMap": {},
     "title": ""
    }
   },
   "outputs": [],
   "source": [
    "#Obs Passar cada Criterio emtre parenteses com o operador lógico no meio para separar os criterios\n",
    "display(df.filter((df.UF == 'MG') & (df.Classificacao_da_Ocorrência == 'Incidente')))"
   ]
  },
  {
   "cell_type": "code",
   "execution_count": 0,
   "metadata": {
    "application/vnd.databricks.v1+cell": {
     "cellMetadata": {
      "byteLimit": 2048000,
      "rowLimit": 10000
     },
     "inputWidgets": {},
     "nuid": "f31e39d3-856b-4c7c-a3f9-cad1524a3848",
     "showTitle": false,
     "tableResultSettingsMap": {},
     "title": ""
    }
   },
   "outputs": [],
   "source": [
    "#Exemplo com OU\n",
    "display(df.filter((df.Danos_a_Aeronave == 'Leve')|(df.Classificacao_da_Ocorrência == 'Incidente')))"
   ]
  },
  {
   "cell_type": "code",
   "execution_count": 0,
   "metadata": {
    "application/vnd.databricks.v1+cell": {
     "cellMetadata": {
      "byteLimit": 2048000,
      "rowLimit": 10000
     },
     "inputWidgets": {},
     "nuid": "569ea3df-16dd-423e-ac27-abd22aa060d3",
     "showTitle": false,
     "tableResultSettingsMap": {},
     "title": ""
    }
   },
   "outputs": [],
   "source": [
    "#Exemplo com E\n",
    "display(df.filter((df.Danos_a_Aeronave == 'Leve')&(df.Classificacao_da_Ocorrência == 'Incidente')))"
   ]
  },
  {
   "cell_type": "code",
   "execution_count": 0,
   "metadata": {
    "application/vnd.databricks.v1+cell": {
     "cellMetadata": {
      "byteLimit": 2048000,
      "rowLimit": 10000
     },
     "inputWidgets": {},
     "nuid": "8de087a2-15c7-4ae6-8868-06d0242302e3",
     "showTitle": false,
     "tableResultSettingsMap": {},
     "title": ""
    }
   },
   "outputs": [],
   "source": [
    "#Salvando novo df\n",
    "dfnovo = df.filter((df.Danos_a_Aeronave == 'Leve')&(df.Classificacao_da_Ocorrência == 'Incidente'))\n",
    "display(dfnovo)"
   ]
  },
  {
   "cell_type": "markdown",
   "metadata": {
    "application/vnd.databricks.v1+cell": {
     "cellMetadata": {},
     "inputWidgets": {},
     "nuid": "bcd0137b-190d-458b-90aa-88c65fdeaa46",
     "showTitle": false,
     "tableResultSettingsMap": {},
     "title": ""
    }
   },
   "source": [
    "###Método WHERE"
   ]
  },
  {
   "cell_type": "code",
   "execution_count": 0,
   "metadata": {
    "application/vnd.databricks.v1+cell": {
     "cellMetadata": {
      "byteLimit": 2048000,
      "rowLimit": 10000
     },
     "inputWidgets": {},
     "nuid": "1d3bc0e4-7198-4f6f-a96d-23c0e3bd0487",
     "showTitle": false,
     "tableResultSettingsMap": {},
     "title": ""
    }
   },
   "outputs": [],
   "source": [
    "#Se sobrescreveu pegar o json original novamente no df\n",
    "display(df)"
   ]
  },
  {
   "cell_type": "code",
   "execution_count": 0,
   "metadata": {
    "application/vnd.databricks.v1+cell": {
     "cellMetadata": {
      "byteLimit": 2048000,
      "rowLimit": 10000
     },
     "inputWidgets": {},
     "nuid": "f771c723-eb80-4159-ba75-b3376443d1cf",
     "showTitle": false,
     "tableResultSettingsMap": {},
     "title": ""
    }
   },
   "outputs": [],
   "source": [
    "#sinatex WHERE = ONDE\n",
    "df.where(df.UF == 'SP')"
   ]
  },
  {
   "cell_type": "code",
   "execution_count": 0,
   "metadata": {
    "application/vnd.databricks.v1+cell": {
     "cellMetadata": {
      "byteLimit": 2048000,
      "rowLimit": 10000
     },
     "inputWidgets": {},
     "nuid": "597da6e4-30ad-4705-a0d4-680892ecbed2",
     "showTitle": false,
     "tableResultSettingsMap": {},
     "title": ""
    }
   },
   "outputs": [],
   "source": [
    "#visualizando os dados nao estou salvando em lugar nenhum \n",
    "display(df.where(df.UF == 'SP'))"
   ]
  },
  {
   "cell_type": "code",
   "execution_count": 0,
   "metadata": {
    "application/vnd.databricks.v1+cell": {
     "cellMetadata": {
      "byteLimit": 2048000,
      "rowLimit": 10000
     },
     "inputWidgets": {},
     "nuid": "b41d9b33-a716-43c0-8468-c76d0bdee6de",
     "showTitle": false,
     "tableResultSettingsMap": {},
     "title": ""
    }
   },
   "outputs": [],
   "source": [
    "display(df.where((df.Danos_a_Aeronave == 'Leve') & (df.Classificacao_da_Ocorrência == 'Incidente')))"
   ]
  },
  {
   "cell_type": "code",
   "execution_count": 0,
   "metadata": {
    "application/vnd.databricks.v1+cell": {
     "cellMetadata": {
      "byteLimit": 2048000,
      "rowLimit": 10000
     },
     "inputWidgets": {},
     "nuid": "b951fa98-c38d-4abd-8169-f78d96127239",
     "showTitle": false,
     "tableResultSettingsMap": {},
     "title": ""
    }
   },
   "outputs": [],
   "source": [
    "#Salvado novo df\n",
    "dfFiltrado = df.where((df.Danos_a_Aeronave == 'Leve') & (df.Classificacao_da_Ocorrência == 'Incidente'))\n",
    "display(dfFiltrado)"
   ]
  },
  {
   "cell_type": "markdown",
   "metadata": {
    "application/vnd.databricks.v1+cell": {
     "cellMetadata": {},
     "inputWidgets": {},
     "nuid": "8ec39aac-a62f-4510-b3e9-7e451febd864",
     "showTitle": false,
     "tableResultSettingsMap": {},
     "title": ""
    }
   },
   "source": [
    "###Método comando SQL"
   ]
  },
  {
   "cell_type": "code",
   "execution_count": 0,
   "metadata": {
    "application/vnd.databricks.v1+cell": {
     "cellMetadata": {
      "byteLimit": 2048000,
      "rowLimit": 10000
     },
     "inputWidgets": {},
     "nuid": "5b8067f1-c518-416b-86ff-c1f167f7b17d",
     "showTitle": false,
     "tableResultSettingsMap": {},
     "title": ""
    }
   },
   "outputs": [],
   "source": [
    "#Se sobrescreveu pegar o json original novamente no df\n",
    "display(df)"
   ]
  },
  {
   "cell_type": "code",
   "execution_count": 0,
   "metadata": {
    "application/vnd.databricks.v1+cell": {
     "cellMetadata": {
      "byteLimit": 2048000,
      "rowLimit": 10000
     },
     "inputWidgets": {},
     "nuid": "8ff63c34-2292-4453-96c9-6c3c9cbba982",
     "showTitle": false,
     "tableResultSettingsMap": {},
     "title": ""
    }
   },
   "outputs": [],
   "source": [
    "#Criar uma tabela temporária\n",
    "df.createOrReplaceTempView(\"temp_teste\")"
   ]
  },
  {
   "cell_type": "code",
   "execution_count": 0,
   "metadata": {
    "application/vnd.databricks.v1+cell": {
     "cellMetadata": {
      "byteLimit": 2048000,
      "rowLimit": 10000
     },
     "inputWidgets": {},
     "nuid": "645ed01a-f9ad-4c7c-ab85-11eabf51ba17",
     "showTitle": false,
     "tableResultSettingsMap": {
      "0": {
       "dataGridStateBlob": "{\"version\":1,\"tableState\":{\"columnPinning\":{\"left\":[\"#row_number#\"],\"right\":[]},\"columnSizing\":{},\"columnVisibility\":{}},\"settings\":{\"columns\":{}},\"syncTimestamp\":1753378241064}",
       "filterBlob": null,
       "queryPlanFiltersBlob": null,
       "tableResultIndex": 0
      }
     },
     "title": ""
    }
   },
   "outputs": [],
   "source": [
    "#Criando df novo através de query SQL (não esquecer das aspas, quanto maior a query mais aspas colocar)\n",
    "mg = spark.sql('''  \n",
    "                            \n",
    "SELECT \n",
    "\"Classificacao_da_Ocorrência\" as Classificacao\n",
    ",Descricao_do_Tipo            as Tipo\n",
    ",Fase_da_Operacao                Fase\n",
    ",Municipio \n",
    ",UF                           as Estado\n",
    "FROM temp_teste\n",
    "WHERE UF = \"MG\" \n",
    "and Fase_da_Operacao = \"Decolagem\"\n",
    "\n",
    "\n",
    "''')\n",
    "\n",
    "display(mg)\n"
   ]
  },
  {
   "cell_type": "code",
   "execution_count": 0,
   "metadata": {
    "application/vnd.databricks.v1+cell": {
     "cellMetadata": {
      "byteLimit": 2048000,
      "rowLimit": 10000
     },
     "inputWidgets": {},
     "nuid": "1683d6ca-9b17-4cb2-9fd9-b6feb8612fc4",
     "showTitle": false,
     "tableResultSettingsMap": {},
     "title": ""
    }
   },
   "outputs": [],
   "source": [
    "#Exemplo sem as 3 aspas simples ou Duplas (como a query é pequena, utilizamos apenas 1)\n",
    "mg = spark.sql(' SELECT * FROM temp_teste WHERE UF = \"MG\" ')\n",
    "display(mg)"
   ]
  },
  {
   "cell_type": "code",
   "execution_count": 0,
   "metadata": {
    "application/vnd.databricks.v1+cell": {
     "cellMetadata": {
      "byteLimit": 2048000,
      "implicitDf": true,
      "rowLimit": 10000
     },
     "inputWidgets": {},
     "nuid": "34ad7852-bfde-4860-b771-ac45ac6f3ea0",
     "showTitle": false,
     "tableResultSettingsMap": {},
     "title": ""
    }
   },
   "outputs": [],
   "source": [
    "%sql\n",
    "show databases"
   ]
  },
  {
   "cell_type": "code",
   "execution_count": 0,
   "metadata": {
    "application/vnd.databricks.v1+cell": {
     "cellMetadata": {
      "byteLimit": 2048000,
      "implicitDf": true,
      "rowLimit": 10000
     },
     "inputWidgets": {},
     "nuid": "5742bd41-b4d0-450e-ba4d-ca31469b7d83",
     "showTitle": false,
     "tableResultSettingsMap": {},
     "title": ""
    }
   },
   "outputs": [],
   "source": [
    "%sql \n",
    "show tables"
   ]
  },
  {
   "cell_type": "code",
   "execution_count": 0,
   "metadata": {
    "application/vnd.databricks.v1+cell": {
     "cellMetadata": {
      "byteLimit": 2048000,
      "implicitDf": true,
      "rowLimit": 10000
     },
     "inputWidgets": {},
     "nuid": "db92c7b1-6381-4e77-b13d-2e53430ae736",
     "showTitle": false,
     "tableResultSettingsMap": {},
     "title": ""
    }
   },
   "outputs": [],
   "source": [
    "%sql\n",
    "DROP TABLE IF EXISTS temp_teste;\n"
   ]
  },
  {
   "cell_type": "markdown",
   "metadata": {
    "application/vnd.databricks.v1+cell": {
     "cellMetadata": {},
     "inputWidgets": {},
     "nuid": "5a8bc5f6-863d-4236-b8be-b6b1da693b86",
     "showTitle": false,
     "tableResultSettingsMap": {},
     "title": ""
    }
   },
   "source": [
    "### Functions do Spark\n",
    "Documentação functions\n",
    "https://spark.apache.org/docs/latest/sql-ref-functions.html\n",
    "\n",
    "Documentação functions string\n",
    "https://spark.apache.org/docs/latest/sql-ref-functions-builtin.html#string-functions"
   ]
  },
  {
   "cell_type": "code",
   "execution_count": 0,
   "metadata": {
    "application/vnd.databricks.v1+cell": {
     "cellMetadata": {
      "byteLimit": 2048000,
      "rowLimit": 10000
     },
     "inputWidgets": {},
     "nuid": "f8552c49-2a76-4dbe-89ea-10e0ebd21e48",
     "showTitle": false,
     "tableResultSettingsMap": {},
     "title": ""
    }
   },
   "outputs": [],
   "source": [
    "from pyspark.sql.functions import *  # importanto mais funções * traz tudo pode trocar o * por uma especifica \n",
    "\"\"\"\n",
    "O PySpark fornece uma ampla gama de funções dentro do módulo pyspark.sql.functions.\n",
    "Alguns Exemplos\n",
    "\n",
    "col: Retorna uma coluna do DataFrame com base no nome fornecido.\n",
    "Exemplo: col(\"nome_da_coluna\")\n",
    "\n",
    "concat: Concatena várias colunas em uma única coluna.\n",
    "Exemplo: concat(col(\"coluna1\"), lit(\" \"), col(\"coluna2\"))\n",
    "\n",
    "substring: Retorna uma parte de uma coluna de texto com base em índices.\n",
    "Exemplo: substring(col(\"texto\"), 1, 3)\n",
    "\n",
    "length: Retorna o comprimento de uma coluna de texto.\n",
    "Exemplo: length(col(\"texto\"))\n",
    "\n",
    "lower: Converte o texto de uma coluna para minúsculas.\n",
    "Exemplo: lower(col(\"texto\"))\n",
    "\n",
    "upper: Converte o texto de uma coluna para maiúsculas.\n",
    "Exemplo: upper(col(\"texto\"))\n",
    "\n",
    "trim:Remove espaços em branco do início e do final de uma coluna de texto.\n",
    "Exemplo: trim(col(\"texto\"))\n",
    "\n",
    "replace:Substitui um padrão por outro em uma coluna de texto.\n",
    "Exemplo: replace(col(\"texto\"), \"old\", \"new\")\n",
    "\n",
    "regexp_replace: Substitui um padrão de expressão regular por outro em uma coluna de texto.\n",
    "Exemplo: regexp_replace(col(\"texto\"), \"pattern\", \"replacement\")\n",
    "\n",
    "split:Divide uma coluna de texto em um array com base em um delimitador.\n",
    "Exemplo: split(col(\"texto\"), \" \")\n",
    "\n",
    "substring_index:Retorna as primeiras n ocorrências de um delimitador em uma coluna de texto.\n",
    "Exemplo: substring_index(col(\"texto\"), \" \", 2)\n",
    "\n",
    "concat_ws:Concatena colunas usando um delimitador especificado.\n",
    "Exemplo: concat_ws(\" \", col(\"coluna1\"), col(\"coluna2\"))\n",
    "\n",
    "when: Realiza uma operação condicional em uma coluna com base em uma condição.\n",
    "Exemplo: when(col(\"idade\") >= 18, \"adulto\").otherwise(\"menor\")\n",
    "\n",
    "coalesce: Retorna a primeira coluna não nula de um conjunto de colunas.\n",
    "Exemplo: coalesce(col(\"coluna1\"), col(\"coluna2\"), col(\"coluna3\"))\n",
    "\n",
    "Es'sas são apenas algumas das muitas funções' disponíveis no módulo pyspark.sql.functions\n",
    "\n",
    "\"\"\""
   ]
  },
  {
   "cell_type": "code",
   "execution_count": 0,
   "metadata": {
    "application/vnd.databricks.v1+cell": {
     "cellMetadata": {
      "byteLimit": 2048000,
      "rowLimit": 10000
     },
     "inputWidgets": {},
     "nuid": "084878cc-7703-43c9-bf89-b018b2b46cf2",
     "showTitle": false,
     "tableResultSettingsMap": {},
     "title": ""
    }
   },
   "outputs": [],
   "source": [
    "#Se sobrescreveu pegar o json original novamente no df\n",
    "display(df)"
   ]
  },
  {
   "cell_type": "code",
   "execution_count": 0,
   "metadata": {
    "application/vnd.databricks.v1+cell": {
     "cellMetadata": {
      "byteLimit": 2048000,
      "rowLimit": 10000
     },
     "inputWidgets": {},
     "nuid": "ce814907-a16a-481f-88f6-58807dabb668",
     "showTitle": false,
     "tableResultSettingsMap": {},
     "title": ""
    }
   },
   "outputs": [],
   "source": [
    "from pyspark.sql.functions import *\n",
    "#importando + funções do Spark"
   ]
  },
  {
   "cell_type": "code",
   "execution_count": 0,
   "metadata": {
    "application/vnd.databricks.v1+cell": {
     "cellMetadata": {
      "byteLimit": 2048000,
      "rowLimit": 10000
     },
     "inputWidgets": {},
     "nuid": "c2a9923e-6534-4bcb-b614-8a948dc8132e",
     "showTitle": false,
     "tableResultSettingsMap": {},
     "title": ""
    }
   },
   "outputs": [],
   "source": [
    "#Retorna uma coluna do DF passando o come como referencia\n",
    "display(df.filter(col(\"UF\") == \"MG\"))\n",
    "\n",
    "#jeito antigo -> display(df.filter(df.Uf == \"MG\"))"
   ]
  },
  {
   "cell_type": "markdown",
   "metadata": {
    "application/vnd.databricks.v1+cell": {
     "cellMetadata": {},
     "inputWidgets": {},
     "nuid": "bf1e1a5c-410c-409e-b727-aa2291cdc405",
     "showTitle": false,
     "tableResultSettingsMap": {},
     "title": ""
    }
   },
   "source": [
    "Filtrando pelo indice da coluna"
   ]
  },
  {
   "cell_type": "code",
   "execution_count": 0,
   "metadata": {
    "application/vnd.databricks.v1+cell": {
     "cellMetadata": {
      "byteLimit": 2048000,
      "rowLimit": 10000
     },
     "inputWidgets": {},
     "nuid": "d1c0973a-2210-4f23-8321-f674a4a88930",
     "showTitle": false,
     "tableResultSettingsMap": {},
     "title": ""
    }
   },
   "outputs": [],
   "source": [
    "#Localizando indice em dados com varias colunas\n",
    "Coluna = 'Aerodromo_de_Destino'\n",
    "Indice = df.columns.index(Coluna)\n",
    "display(Indice)"
   ]
  },
  {
   "cell_type": "code",
   "execution_count": 0,
   "metadata": {
    "application/vnd.databricks.v1+cell": {
     "cellMetadata": {
      "byteLimit": 2048000,
      "rowLimit": 10000
     },
     "inputWidgets": {},
     "nuid": "133f0ee6-0611-4187-931d-837434466578",
     "showTitle": false,
     "tableResultSettingsMap": {},
     "title": ""
    }
   },
   "outputs": [],
   "source": [
    "#Lista vazia para inserir os dados\n",
    "ListaIndices = []\n",
    "\n",
    "#Loop\n",
    "for Coluna in df.columns:\n",
    "    Indice = df.columns.index(Coluna)\n",
    "    ListaIndices.append((Coluna,Indice))\n",
    "\n",
    "#Salva lista em DF\n",
    "df_indices = spark.createDataFrame(ListaIndices,['Coluna','Indice'])\n",
    "\n",
    "display(df_indices)"
   ]
  },
  {
   "cell_type": "code",
   "execution_count": 0,
   "metadata": {
    "application/vnd.databricks.v1+cell": {
     "cellMetadata": {
      "byteLimit": 2048000,
      "rowLimit": 10000
     },
     "inputWidgets": {},
     "nuid": "c03aa429-837e-4b94-99f9-4c7781e7a61b",
     "showTitle": false,
     "tableResultSettingsMap": {},
     "title": ""
    }
   },
   "outputs": [],
   "source": [
    "#Filtrando pelo indice\n",
    "df_filtrado = df.filter(col(df.columns[44])=='MG')\n",
    "display(df_filtrado)"
   ]
  },
  {
   "cell_type": "code",
   "execution_count": 0,
   "metadata": {
    "application/vnd.databricks.v1+cell": {
     "cellMetadata": {
      "byteLimit": 2048000,
      "rowLimit": 10000
     },
     "inputWidgets": {},
     "nuid": "3ca40e87-b25e-40da-a288-84261c67b870",
     "showTitle": false,
     "tableResultSettingsMap": {},
     "title": ""
    }
   },
   "outputs": [],
   "source": [
    "#Filtro utilizando variaveis, fica mais organizado o código, melhor de utilizar\n",
    "Coluna = 'Classificacao_da_Ocorrência'\n",
    "Filtro = 'Acidente'\n",
    "display(df.filter(df[Coluna]==Filtro))"
   ]
  },
  {
   "cell_type": "code",
   "execution_count": 0,
   "metadata": {
    "application/vnd.databricks.v1+cell": {
     "cellMetadata": {
      "byteLimit": 2048000,
      "rowLimit": 10000
     },
     "inputWidgets": {},
     "nuid": "23736645-cccd-4c41-925b-88e152efeedb",
     "showTitle": false,
     "tableResultSettingsMap": {},
     "title": ""
    }
   },
   "outputs": [],
   "source": [
    "Coluna = 'Fase_da_Operacao'\n",
    "Filtro = 'Decolagem'\n",
    "display(df.filter(df[Coluna]==Filtro))"
   ]
  },
  {
   "cell_type": "code",
   "execution_count": 0,
   "metadata": {
    "application/vnd.databricks.v1+cell": {
     "cellMetadata": {
      "byteLimit": 2048000,
      "rowLimit": 10000
     },
     "inputWidgets": {},
     "nuid": "87879f0b-55f1-4cca-bae3-908ab1826d34",
     "showTitle": false,
     "tableResultSettingsMap": {},
     "title": ""
    }
   },
   "outputs": [],
   "source": [
    "#Obs: entre a criação da variavel e o criterio no filtro == ou !=\n",
    "Coluna1 = 'Fase_da_Operacao'\n",
    "Filtro1 = 'Decolagem'\n",
    "Coluna2 = 'UF'\n",
    "Filtro2 = 'MG'\n",
    "\n",
    "display(df.filter((df[Coluna1] == Filtro1) & (df[Coluna2] == Filtro2)))\n"
   ]
  },
  {
   "cell_type": "markdown",
   "metadata": {
    "application/vnd.databricks.v1+cell": {
     "cellMetadata": {},
     "inputWidgets": {},
     "nuid": "f3c45365-eeb3-46cb-a81c-ca959851e133",
     "showTitle": false,
     "tableResultSettingsMap": {},
     "title": ""
    }
   },
   "source": [
    "###Corrigindo maiúsculas e minúsculas\n",
    "\n"
   ]
  },
  {
   "cell_type": "code",
   "execution_count": 0,
   "metadata": {
    "application/vnd.databricks.v1+cell": {
     "cellMetadata": {
      "byteLimit": 2048000,
      "rowLimit": 10000
     },
     "inputWidgets": {},
     "nuid": "b8ba47ca-a862-403c-8c71-dda873f6f784",
     "showTitle": false,
     "tableResultSettingsMap": {},
     "title": ""
    }
   },
   "outputs": [],
   "source": [
    "#Se sobrescreveu pegar o json original novamente no df\n",
    "display(df)"
   ]
  },
  {
   "cell_type": "code",
   "execution_count": 0,
   "metadata": {
    "application/vnd.databricks.v1+cell": {
     "cellMetadata": {
      "byteLimit": 2048000,
      "rowLimit": 10000
     },
     "inputWidgets": {},
     "nuid": "214908de-3e09-447e-8211-a0affcfde20a",
     "showTitle": false,
     "tableResultSettingsMap": {},
     "title": ""
    }
   },
   "outputs": [],
   "source": [
    "display(df.filter(df['Fase_da_Operacao']=='Decolagem'))"
   ]
  },
  {
   "cell_type": "code",
   "execution_count": 0,
   "metadata": {
    "application/vnd.databricks.v1+cell": {
     "cellMetadata": {
      "byteLimit": 2048000,
      "rowLimit": 10000
     },
     "inputWidgets": {},
     "nuid": "37f5706b-b13f-45ea-bb9f-0827428923a2",
     "showTitle": false,
     "tableResultSettingsMap": {},
     "title": ""
    }
   },
   "outputs": [],
   "source": [
    "display(df.filter(df['Fase_da_Operacao']=='decolagem'))"
   ]
  },
  {
   "cell_type": "code",
   "execution_count": 0,
   "metadata": {
    "application/vnd.databricks.v1+cell": {
     "cellMetadata": {
      "byteLimit": 2048000,
      "rowLimit": 10000
     },
     "inputWidgets": {},
     "nuid": "bb559764-7f87-41ce-a9c0-ffd2c27d1d25",
     "showTitle": false,
     "tableResultSettingsMap": {},
     "title": ""
    }
   },
   "outputs": [],
   "source": [
    "#Correção para bases grandes -> 1º verificar comportamento 2º criar um padrão para as colunas\n",
    "df.select(\"Fase_da_Operacao\").distinct().show()"
   ]
  },
  {
   "cell_type": "code",
   "execution_count": 0,
   "metadata": {
    "application/vnd.databricks.v1+cell": {
     "cellMetadata": {
      "byteLimit": 2048000,
      "rowLimit": 10000
     },
     "inputWidgets": {},
     "nuid": "e84a35c9-1bf8-4829-93b9-6235bf29edb2",
     "showTitle": false,
     "tableResultSettingsMap": {},
     "title": ""
    }
   },
   "outputs": [],
   "source": [
    "from pyspark.sql.functions import upper,lower #poderia ser * para trazer todas as funções"
   ]
  },
  {
   "cell_type": "code",
   "execution_count": 0,
   "metadata": {
    "application/vnd.databricks.v1+cell": {
     "cellMetadata": {
      "byteLimit": 2048000,
      "rowLimit": 10000
     },
     "inputWidgets": {},
     "nuid": "2d5f6c44-b489-479d-8961-fc0e98f96af9",
     "showTitle": false,
     "tableResultSettingsMap": {},
     "title": ""
    }
   },
   "outputs": [],
   "source": [
    "#Upper = transforma dados em maiusculo\n",
    "display(df.select(upper(df['Fase_da_Operacao'])).distinct())"
   ]
  },
  {
   "cell_type": "code",
   "execution_count": 0,
   "metadata": {
    "application/vnd.databricks.v1+cell": {
     "cellMetadata": {
      "byteLimit": 2048000,
      "rowLimit": 10000
     },
     "inputWidgets": {},
     "nuid": "7b40957b-0396-48c3-911b-7413956f91a6",
     "showTitle": false,
     "tableResultSettingsMap": {},
     "title": ""
    }
   },
   "outputs": [],
   "source": [
    "#Lower = transforma tudo em minusculo\n",
    "display(df.select(lower(df['Fase_da_Operacao'])).distinct())"
   ]
  },
  {
   "cell_type": "code",
   "execution_count": 0,
   "metadata": {
    "application/vnd.databricks.v1+cell": {
     "cellMetadata": {
      "byteLimit": 2048000,
      "rowLimit": 10000
     },
     "inputWidgets": {},
     "nuid": "48db1d33-2c2c-4b78-9b45-e6a8e427ad1c",
     "showTitle": false,
     "tableResultSettingsMap": {},
     "title": ""
    }
   },
   "outputs": [],
   "source": [
    "#Filtro sem erro se escrever tudo em minusculo\n",
    "display(df.filter(lower(df['Fase_da_Operacao'])=='decolagem'))"
   ]
  },
  {
   "cell_type": "code",
   "execution_count": 0,
   "metadata": {
    "application/vnd.databricks.v1+cell": {
     "cellMetadata": {
      "byteLimit": 2048000,
      "rowLimit": 10000
     },
     "inputWidgets": {},
     "nuid": "51ff11a2-ec9e-41f6-8f72-5132a15d2f1a",
     "showTitle": false,
     "tableResultSettingsMap": {},
     "title": ""
    }
   },
   "outputs": [],
   "source": [
    "#salvar em novo DF, no DF nao tera alteração, apenas o filtro ficou minusculo, nao influenciando no DF\n",
    "novo_df = df.filter(lower(df['Fase_da_Operacao'])=='decolagem')\n",
    "display(novo_df)"
   ]
  },
  {
   "cell_type": "markdown",
   "metadata": {
    "application/vnd.databricks.v1+cell": {
     "cellMetadata": {},
     "inputWidgets": {},
     "nuid": "b708698f-899a-4e81-bf75-66d3f8ba766c",
     "showTitle": false,
     "tableResultSettingsMap": {},
     "title": ""
    }
   },
   "source": [
    "###Resolvendo erros de digitação com espaço excessivo"
   ]
  },
  {
   "cell_type": "code",
   "execution_count": 0,
   "metadata": {
    "application/vnd.databricks.v1+cell": {
     "cellMetadata": {
      "byteLimit": 2048000,
      "rowLimit": 10000
     },
     "inputWidgets": {},
     "nuid": "ccccbbdc-da09-4a28-97b1-d0ed938ea32b",
     "showTitle": false,
     "tableResultSettingsMap": {
      "0": {
       "dataGridStateBlob": "{\"version\":1,\"tableState\":{\"columnPinning\":{\"left\":[\"#row_number#\"],\"right\":[]},\"columnSizing\":{},\"columnVisibility\":{}},\"settings\":{\"columns\":{}},\"syncTimestamp\":1753469647754}",
       "filterBlob": null,
       "queryPlanFiltersBlob": null,
       "tableResultIndex": 0
      }
     },
     "title": ""
    }
   },
   "outputs": [],
   "source": [
    "Dados = [(\"Belo Horizonte \", \"MG\", 2512070),\n",
    "        (\" Belo Horizonte \", \"MG\", 12106920),\n",
    "        (\"Rio de Janeiro\", \"RJ\", 6718903),\n",
    "        (\" Belo Horizonte\", \"MG\", 20001151),\n",
    "        (\"Brasília\", \"DF\", 3015268)]\n",
    "\n",
    "Colunas = [\"Cidade\", \"UF\", \"População\"]\n",
    "\n",
    "df = spark.createDataFrame(Dados, Colunas)\n",
    "display(df)"
   ]
  },
  {
   "cell_type": "code",
   "execution_count": 0,
   "metadata": {
    "application/vnd.databricks.v1+cell": {
     "cellMetadata": {
      "byteLimit": 2048000,
      "rowLimit": 10000
     },
     "inputWidgets": {},
     "nuid": "96547655-ff40-4f91-94ff-01aedad4838d",
     "showTitle": false,
     "tableResultSettingsMap": {},
     "title": ""
    }
   },
   "outputs": [],
   "source": [
    "display(df.filter(df['Cidade']==\"Belo Horizonte\"))"
   ]
  },
  {
   "cell_type": "code",
   "execution_count": 0,
   "metadata": {
    "application/vnd.databricks.v1+cell": {
     "cellMetadata": {
      "byteLimit": 2048000,
      "rowLimit": 10000
     },
     "inputWidgets": {},
     "nuid": "c128dfdf-274f-4b3d-8c62-389d4abeaf41",
     "showTitle": false,
     "tableResultSettingsMap": {},
     "title": ""
    }
   },
   "outputs": [],
   "source": [
    "from pyspark.sql.functions import rtrim,ltrim,trim #poderia ser * tambem \n",
    "\"\"\"\n",
    "trim:  Remove espaços em branco do início e do final de uma coluna de texto.\n",
    "rtrim: Remove espaços em branco da direita \n",
    "ltrim: Remove espaços em branco da esquerda\n",
    "\n",
    "\"\"\""
   ]
  },
  {
   "cell_type": "code",
   "execution_count": 0,
   "metadata": {
    "application/vnd.databricks.v1+cell": {
     "cellMetadata": {
      "byteLimit": 2048000,
      "rowLimit": 10000
     },
     "inputWidgets": {},
     "nuid": "972f040e-1ea5-4a2b-bbc1-43046dfab056",
     "showTitle": false,
     "tableResultSettingsMap": {},
     "title": ""
    }
   },
   "outputs": [],
   "source": [
    "display(df.filter(rtrim(df['Cidade'])==\"Belo Horizonte\"))\n",
    "#Eliminou espaço da direita e trouxe o resultado"
   ]
  },
  {
   "cell_type": "code",
   "execution_count": 0,
   "metadata": {
    "application/vnd.databricks.v1+cell": {
     "cellMetadata": {
      "byteLimit": 2048000,
      "rowLimit": 10000
     },
     "inputWidgets": {},
     "nuid": "c86e3c1b-d5e3-42cb-a821-5e346110f535",
     "showTitle": false,
     "tableResultSettingsMap": {},
     "title": ""
    }
   },
   "outputs": [],
   "source": [
    "display(df.filter(ltrim(df['Cidade'])==\"Belo Horizonte\"))\n",
    "#Eliminou espaço da esquerda e trouxe o resultado"
   ]
  },
  {
   "cell_type": "code",
   "execution_count": 0,
   "metadata": {
    "application/vnd.databricks.v1+cell": {
     "cellMetadata": {
      "byteLimit": 2048000,
      "rowLimit": 10000
     },
     "inputWidgets": {},
     "nuid": "4a73574f-626d-4dd6-92de-02be8653bdad",
     "showTitle": false,
     "tableResultSettingsMap": {},
     "title": ""
    }
   },
   "outputs": [],
   "source": [
    "display(df.filter(trim(df['Cidade'])==\"Belo Horizonte\"))\n",
    "#Eliminou espaço da esquerda e da direita e trouxe o resultado, esse é o melhor para utilizar"
   ]
  },
  {
   "cell_type": "code",
   "execution_count": 0,
   "metadata": {
    "application/vnd.databricks.v1+cell": {
     "cellMetadata": {
      "byteLimit": 2048000,
      "rowLimit": 10000
     },
     "inputWidgets": {},
     "nuid": "4ae3c24c-851d-47b6-9c94-0ab23c6f2c2f",
     "showTitle": false,
     "tableResultSettingsMap": {},
     "title": ""
    }
   },
   "outputs": [],
   "source": [
    "from pyspark.sql.functions import trim \n",
    "#Novo DF avacalhado para simular \n",
    "Dados = [(\"Belo Horizonte \", \"MG\", 2512070),\n",
    "        (\" Belo Horizonte \", \"MG\", 12106920),\n",
    "        (\"Rio de Janeiro\", \"RJ\", 6718903),\n",
    "        (\" Belo Horizonte\", \"MG\", 20001151),\n",
    "        (\"Brasília\", \"DF\", 3015268)]\n",
    "\n",
    "Colunas = [\"Cidade\", \"UF\", \"População\"]\n",
    "\n",
    "df = spark.createDataFrame(Dados, Colunas)\n",
    "display(df)\n"
   ]
  },
  {
   "cell_type": "code",
   "execution_count": 0,
   "metadata": {
    "application/vnd.databricks.v1+cell": {
     "cellMetadata": {
      "byteLimit": 2048000,
      "rowLimit": 10000
     },
     "inputWidgets": {},
     "nuid": "a2bf0f48-2920-4dbc-9c81-ac1fdfcca861",
     "showTitle": false,
     "tableResultSettingsMap": {},
     "title": ""
    }
   },
   "outputs": [],
   "source": [
    "#arrumando o Df Certinho\n",
    "#withColumn adiciona ou substitui uma coluna (mesmo nome substitui nome diferente adiciona)\n",
    "df = df.withColumn(\"Cidade\", trim(df['Cidade']))\n",
    "display(df)"
   ]
  },
  {
   "cell_type": "code",
   "execution_count": 0,
   "metadata": {
    "application/vnd.databricks.v1+cell": {
     "cellMetadata": {
      "byteLimit": 2048000,
      "rowLimit": 10000
     },
     "inputWidgets": {},
     "nuid": "ecd49694-c176-4e5b-8af3-23c5d40740df",
     "showTitle": false,
     "tableResultSettingsMap": {},
     "title": ""
    }
   },
   "outputs": [],
   "source": [
    "#Como ja foi tratado acima, podemos utilizar filtro sem trim\n",
    "display(df.filter(df['Cidade']==\"Belo Horizonte\"))"
   ]
  },
  {
   "cell_type": "markdown",
   "metadata": {
    "application/vnd.databricks.v1+cell": {
     "cellMetadata": {},
     "inputWidgets": {},
     "nuid": "28f84c60-9491-49e8-802d-0656f7bc1549",
     "showTitle": false,
     "tableResultSettingsMap": {},
     "title": ""
    }
   },
   "source": [
    "###Substituindo dados avançados"
   ]
  },
  {
   "cell_type": "code",
   "execution_count": 0,
   "metadata": {
    "application/vnd.databricks.v1+cell": {
     "cellMetadata": {
      "byteLimit": 2048000,
      "rowLimit": 10000
     },
     "inputWidgets": {},
     "nuid": "da2ba4be-a0a5-4651-90a8-b2081959fa0a",
     "showTitle": false,
     "tableResultSettingsMap": {},
     "title": ""
    }
   },
   "outputs": [],
   "source": [
    "# Simulando dados para os 27 estados do Brasil\n",
    "dados = [\n",
    "    (\"Acre\", \"AC\", 894470),\n",
    "    (\"Alagoas\", \"AL\", 3337357),\n",
    "    (\"Amapá\", \"AP\", 861773),\n",
    "    (\"Amazonas\", \"AM\", 4207714),\n",
    "    (\"Bahia\", \"BA\", 14930634),\n",
    "    (\"Ceará\", \"CE\", 9132078),\n",
    "    (\"Distrito Federal\", \"DF\", 3055149),\n",
    "    (\"Espírito Santo\", \"ES\", 4018650),\n",
    "    (\"Goiás\", \"GO\", 7113540),\n",
    "    (\"Maranhão\", \"MA\", 7114598),\n",
    "    (\"Mato Grosso\", \"MT\", 3526220),\n",
    "    (\"Mato Grosso do Sul\", \"MS\", 2809394),\n",
    "    (\"Minas Gerais\", \"MG\", 21168791),\n",
    "    (\"Pará\", \"PA\", 8690745),\n",
    "    (\"Paraíba\", \"PB\", 4039277),\n",
    "    (\"Paraná\", \"PR\", 11433957),\n",
    "    (\"Pernambuco\", \"PE\", 9616621),\n",
    "    (\"Piauí\", \"PI\", 3273227),\n",
    "    (\"Rio de Janeiro\", \"RJ\", 17366189),\n",
    "    (\"Rio Grande do Norte\", \"RN\", 3534165),\n",
    "    (\"Rio Grande do Sul\", \"RS\", 11422973),\n",
    "    (\"Rondônia\", \"RO\", 1796460),\n",
    "    (\"Roraima\", \"RR\", 631181),\n",
    "    (\"Santa Catarina\", \"SC\", 7252502),\n",
    "    (\"São Paulo\", \"SP\", 46289333),\n",
    "    (\"Sergipe\", \"SE\", 2318822),\n",
    "    (\"Tocantins\", \"TO\", 1590248),\n",
    "]\n",
    "\n",
    "colunas = [\"Estado\", \"UF\", \"População\"]\n",
    "\n",
    "# Criando o DataFrame\n",
    "df_estados = spark.createDataFrame(dados,colunas)\n",
    "display(df_estados)\n"
   ]
  },
  {
   "cell_type": "code",
   "execution_count": 0,
   "metadata": {
    "application/vnd.databricks.v1+cell": {
     "cellMetadata": {
      "byteLimit": 2048000,
      "rowLimit": 10000
     },
     "inputWidgets": {},
     "nuid": "4d2c708f-90c8-483a-a87d-51ad2f9690b6",
     "showTitle": false,
     "tableResultSettingsMap": {},
     "title": ""
    }
   },
   "outputs": [],
   "source": [
    "from pyspark.sql.functions import regexp_replace"
   ]
  },
  {
   "cell_type": "code",
   "execution_count": 0,
   "metadata": {
    "application/vnd.databricks.v1+cell": {
     "cellMetadata": {
      "byteLimit": 2048000,
      "rowLimit": 10000
     },
     "inputWidgets": {},
     "nuid": "52a6b9fc-03de-4d06-9e50-56143673892a",
     "showTitle": false,
     "tableResultSettingsMap": {},
     "title": ""
    }
   },
   "outputs": [],
   "source": [
    "df_estados = df_estados.withColumn(\"EstadoSemAcento\",regexp_replace(df_estados['Estado'],\"á\",\"a\"))\n",
    "display(df_estados)\n",
    "\n",
    "#poderia localizar a coluna tambem com df.estado.Estado ou indice"
   ]
  },
  {
   "cell_type": "code",
   "execution_count": 0,
   "metadata": {
    "application/vnd.databricks.v1+cell": {
     "cellMetadata": {
      "byteLimit": 2048000,
      "rowLimit": 10000
     },
     "inputWidgets": {},
     "nuid": "6306ebb4-d620-4c7a-b887-d8ef020a6efc",
     "showTitle": false,
     "tableResultSettingsMap": {},
     "title": ""
    }
   },
   "outputs": [],
   "source": [
    "from pyspark.sql.functions import translate\n",
    "#tem que ser na mesma ordem\n",
    "acentos     = \"áàãâéèêíìóòõôúùûç\"\n",
    "sem_acentos = \"aaaaeeeiioooouuuc\"\n",
    "\n",
    "#Substituição usando translate\n",
    "df_estado = df_estados.withColumn(\"EstadoSemAcento\",translate(df_estados['Estado'],acentos,sem_acentos))\n",
    "display(df_estado)"
   ]
  },
  {
   "cell_type": "code",
   "execution_count": 0,
   "metadata": {
    "application/vnd.databricks.v1+cell": {
     "cellMetadata": {
      "byteLimit": 2048000,
      "rowLimit": 10000
     },
     "inputWidgets": {},
     "nuid": "197f1810-8f51-4a47-bff6-4ed569e0037c",
     "showTitle": false,
     "tableResultSettingsMap": {},
     "title": ""
    }
   },
   "outputs": [],
   "source": [
    "#Usando translate lower pra nao ter problema de forma alguma tudo sem acento e minusculo\n",
    "from pyspark.sql.functions import translate,lower\n",
    "acentos     = \"áàãâéèêíìóòõôúùûç\"\n",
    "sem_acentos = \"aaaaeeeiioooouuuc\"\n",
    "\n",
    "df_estados = df_estados.withColumn(\"EstadoSemAcento\", lower(translate(df_estados['Estado'], acentos, sem_acentos)))\n",
    "display(df_estados)"
   ]
  },
  {
   "cell_type": "code",
   "execution_count": 0,
   "metadata": {
    "application/vnd.databricks.v1+cell": {
     "cellMetadata": {
      "byteLimit": 2048000,
      "rowLimit": 10000
     },
     "inputWidgets": {},
     "nuid": "e081a2fc-8988-4218-b421-c800b4f9e52d",
     "showTitle": false,
     "tableResultSettingsMap": {},
     "title": ""
    }
   },
   "outputs": [],
   "source": [
    "display(df_estados.filter(df_estados['EstadoSemAcento']=='Maranhao'))"
   ]
  },
  {
   "cell_type": "code",
   "execution_count": 0,
   "metadata": {
    "application/vnd.databricks.v1+cell": {
     "cellMetadata": {
      "byteLimit": 2048000,
      "rowLimit": 10000
     },
     "inputWidgets": {},
     "nuid": "f347f139-7937-4a0c-80a1-e01b0b3b869c",
     "showTitle": false,
     "tableResultSettingsMap": {},
     "title": ""
    }
   },
   "outputs": [],
   "source": [
    "#sem acento , tudo minusculo e sem espaços escessivos\n",
    "from pyspark.sql.functions import translate,lower,trim\n",
    "acentos     = \"áàãâéèêíìóòõôúùûç\"\n",
    "sem_acentos = \"aaaaeeeiioooouuuc\"\n",
    "\n",
    "df_estados = df_estados.withColumn(\"EstadoSemAcento\", trim(lower(translate(df_estados.Estado, acentos, sem_acentos))) )\n",
    "display(df_estados)"
   ]
  },
  {
   "cell_type": "code",
   "execution_count": 0,
   "metadata": {
    "application/vnd.databricks.v1+cell": {
     "cellMetadata": {
      "byteLimit": 2048000,
      "rowLimit": 10000
     },
     "inputWidgets": {},
     "nuid": "34c07f86-65f9-41e1-a3ba-5fd02cf6f3b6",
     "showTitle": false,
     "tableResultSettingsMap": {},
     "title": ""
    }
   },
   "outputs": [],
   "source": [
    "display(df_estados.filter(df_estados['EstadoSemAcento']=='sao paulo'))"
   ]
  },
  {
   "cell_type": "code",
   "execution_count": 0,
   "metadata": {
    "application/vnd.databricks.v1+cell": {
     "cellMetadata": {
      "byteLimit": 2048000,
      "rowLimit": 10000
     },
     "inputWidgets": {},
     "nuid": "53f432a8-e797-4af4-aa25-9bc90afb6bb0",
     "showTitle": false,
     "tableResultSettingsMap": {
      "0": {
       "dataGridStateBlob": "{\"version\":1,\"tableState\":{\"columnPinning\":{\"left\":[\"#row_number#\"],\"right\":[]},\"columnSizing\":{},\"columnVisibility\":{}},\"settings\":{\"columns\":{}},\"syncTimestamp\":1753711154969}",
       "filterBlob": null,
       "queryPlanFiltersBlob": null,
       "tableResultIndex": 0
      }
     },
     "title": ""
    }
   },
   "outputs": [],
   "source": [
    "#Substituindo coluna e nao criando uma nova\n",
    "from pyspark.sql.functions import translate,lower,trim\n",
    "acentos     = \"áàãâéèêíìóòõôúùûç\"\n",
    "sem_acentos = \"aaaaeeeiioooouuuc\"\n",
    "\n",
    "df_estados = df_estados.withColumn(\"Estado\", trim(lower(translate(df_estados.Estado, acentos, sem_acentos))) )\n",
    "display(df_estados)"
   ]
  },
  {
   "cell_type": "markdown",
   "metadata": {
    "application/vnd.databricks.v1+cell": {
     "cellMetadata": {
      "byteLimit": 2048000,
      "rowLimit": 10000
     },
     "inputWidgets": {},
     "nuid": "96d7b5c5-fbbe-4b92-9445-a8d5ea5597ab",
     "showTitle": false,
     "tableResultSettingsMap": {},
     "title": ""
    }
   },
   "source": [
    "###Função LIKE"
   ]
  },
  {
   "cell_type": "code",
   "execution_count": 0,
   "metadata": {
    "application/vnd.databricks.v1+cell": {
     "cellMetadata": {
      "byteLimit": 2048000,
      "rowLimit": 10000
     },
     "inputWidgets": {},
     "nuid": "401abee4-ace1-4e6e-8ee8-c1d1f18c71e7",
     "showTitle": false,
     "tableResultSettingsMap": {},
     "title": ""
    }
   },
   "outputs": [],
   "source": [
    "#Se sobrescreveu pegar o json original novamente no df\n",
    "df = spark.read.json(\"/Volumes/workspace/default/arquivos-cursoudemy/Anac/V_OCORRENCIA_AMPLA.json\")\n",
    "display(df)"
   ]
  },
  {
   "cell_type": "code",
   "execution_count": 0,
   "metadata": {
    "application/vnd.databricks.v1+cell": {
     "cellMetadata": {
      "byteLimit": 2048000,
      "rowLimit": 10000
     },
     "inputWidgets": {},
     "nuid": "c49b1930-0965-48d1-8ce3-61154bce38ac",
     "showTitle": false,
     "tableResultSettingsMap": {},
     "title": ""
    }
   },
   "outputs": [],
   "source": [
    "#passar apenas trecho especifico para filtrar\n",
    "# o % é igual a 'todo o resto'\n",
    "resultado = df.filter(df['Descricao_do_Tipo'].like('%COLISÃO%'))\n",
    "display(resultado)\n",
    "\n",
    "#Resumo pra ficar facil \n",
    "\"\"\"\n",
    "%Texto%  = traz todo o resto pra frente e pra tras do texto\n",
    "Texto%   = inicia com o texto e nao importa o que tem pra frente\n",
    "%Texto   = finaliza com o texto nao importa o que tem para tras\n",
    "\n",
    "\"\"\""
   ]
  },
  {
   "cell_type": "markdown",
   "metadata": {
    "application/vnd.databricks.v1+cell": {
     "cellMetadata": {},
     "inputWidgets": {},
     "nuid": "69cdd61b-fbf8-4ef0-83e7-9d2d03dedc22",
     "showTitle": false,
     "tableResultSettingsMap": {},
     "title": ""
    }
   },
   "source": [
    "###Filtro de valores"
   ]
  },
  {
   "cell_type": "code",
   "execution_count": 0,
   "metadata": {
    "application/vnd.databricks.v1+cell": {
     "cellMetadata": {
      "byteLimit": 2048000,
      "rowLimit": 10000
     },
     "inputWidgets": {},
     "nuid": "760de4bc-5e10-4bfa-a197-29252124a0b6",
     "showTitle": false,
     "tableResultSettingsMap": {},
     "title": ""
    }
   },
   "outputs": [],
   "source": [
    "orders_df = spark.read\\\n",
    "            .format(\"csv\")\\\n",
    "            .option(\"header\", \"true\")\\\n",
    "            .option(\"inferSchema\", \"true\")\\\n",
    "            .load(\"/Volumes/workspace/default/arquivos-cursoudemy/Bike/orders.csv\")\n",
    "display(orders_df)"
   ]
  },
  {
   "cell_type": "code",
   "execution_count": 0,
   "metadata": {
    "application/vnd.databricks.v1+cell": {
     "cellMetadata": {
      "byteLimit": 2048000,
      "rowLimit": 10000
     },
     "inputWidgets": {},
     "nuid": "04418863-0d67-45c2-9c39-d5db4d3697d8",
     "showTitle": false,
     "tableResultSettingsMap": {},
     "title": ""
    }
   },
   "outputs": [],
   "source": [
    "display(orders_df.filter(orders_df['order_status']==1))"
   ]
  },
  {
   "cell_type": "code",
   "execution_count": 0,
   "metadata": {
    "application/vnd.databricks.v1+cell": {
     "cellMetadata": {
      "byteLimit": 2048000,
      "rowLimit": 10000
     },
     "inputWidgets": {},
     "nuid": "ed69909f-7c1d-46d9-9143-2b7a838616f5",
     "showTitle": false,
     "tableResultSettingsMap": {},
     "title": ""
    }
   },
   "outputs": [],
   "source": [
    "#salvando em 1 df, simuladno que 1 seja pedidos pendentes\n",
    "PedidosPendentes = orders_df.filter(orders_df['order_status']==1)\n",
    "display(PedidosPendentes)"
   ]
  },
  {
   "cell_type": "code",
   "execution_count": 0,
   "metadata": {
    "application/vnd.databricks.v1+cell": {
     "cellMetadata": {
      "byteLimit": 2048000,
      "rowLimit": 10000
     },
     "inputWidgets": {},
     "nuid": "f0d7a05f-f35f-4a32-8255-01bff6ffc54f",
     "showTitle": false,
     "tableResultSettingsMap": {},
     "title": ""
    }
   },
   "outputs": [],
   "source": [
    "#pedidos de uma loja especifica\n",
    "Loja2 = orders_df.filter(orders_df['store_id']==2)\n",
    "display(Loja2)"
   ]
  },
  {
   "cell_type": "code",
   "execution_count": 0,
   "metadata": {
    "application/vnd.databricks.v1+cell": {
     "cellMetadata": {
      "byteLimit": 2048000,
      "rowLimit": 10000
     },
     "inputWidgets": {},
     "nuid": "75a84421-2789-4665-a0b5-b8eb5d2a198d",
     "showTitle": false,
     "tableResultSettingsMap": {},
     "title": ""
    }
   },
   "outputs": [],
   "source": [
    "#pedidos de uma loja especifica\n",
    "Fora3 = orders_df.filter(orders_df['store_id']!=3)\n",
    "display(Fora3)"
   ]
  },
  {
   "cell_type": "code",
   "execution_count": 0,
   "metadata": {
    "application/vnd.databricks.v1+cell": {
     "cellMetadata": {
      "byteLimit": 2048000,
      "rowLimit": 10000
     },
     "inputWidgets": {},
     "nuid": "c262aabd-16af-4091-bd1a-c78ce3f4c5e6",
     "showTitle": false,
     "tableResultSettingsMap": {},
     "title": ""
    }
   },
   "outputs": [],
   "source": [
    "#Filtro composto exemplo pedidos da Loja 3 com status =1\n",
    "StatusLoja3 = orders_df.filter((orders_df['store_id']==3) & (orders_df['order_status']==1))\n",
    "display(StatusLoja3)"
   ]
  },
  {
   "cell_type": "code",
   "execution_count": 0,
   "metadata": {
    "application/vnd.databricks.v1+cell": {
     "cellMetadata": {
      "byteLimit": 2048000,
      "rowLimit": 10000
     },
     "inputWidgets": {},
     "nuid": "ede15c08-b09e-494d-83c9-a3566c112afa",
     "showTitle": false,
     "tableResultSettingsMap": {},
     "title": ""
    }
   },
   "outputs": [],
   "source": [
    "order_items = spark.read\\\n",
    "                .format('csv')\\\n",
    "                .option('header', 'true')\\\n",
    "                .option('inferSchema', 'true')\\\n",
    "                .load('/Volumes/workspace/default/arquivos-cursoudemy/Bike/order_items.csv')\n",
    "display(order_items)"
   ]
  },
  {
   "cell_type": "code",
   "execution_count": 0,
   "metadata": {
    "application/vnd.databricks.v1+cell": {
     "cellMetadata": {
      "byteLimit": 2048000,
      "rowLimit": 10000
     },
     "inputWidgets": {},
     "nuid": "48f9b183-90f6-4056-8549-a41c0aa62bf4",
     "showTitle": false,
     "tableResultSettingsMap": {},
     "title": ""
    }
   },
   "outputs": [],
   "source": [
    "#Faixa de preços\n",
    "Barato = order_items.filter(order_items['list_price']<300)\n",
    "display(Barato)"
   ]
  },
  {
   "cell_type": "code",
   "execution_count": 0,
   "metadata": {
    "application/vnd.databricks.v1+cell": {
     "cellMetadata": {
      "byteLimit": 2048000,
      "rowLimit": 10000
     },
     "inputWidgets": {},
     "nuid": "65613fae-540c-4621-97af-72d0c58f2f53",
     "showTitle": false,
     "tableResultSettingsMap": {},
     "title": ""
    }
   },
   "outputs": [],
   "source": [
    "#Faixa de preços\n",
    "Medio = order_items.filter((order_items['list_price']>=300) & (order_items['list_price']<2000))\n",
    "display(Medio)"
   ]
  },
  {
   "cell_type": "code",
   "execution_count": 0,
   "metadata": {
    "application/vnd.databricks.v1+cell": {
     "cellMetadata": {
      "byteLimit": 2048000,
      "rowLimit": 10000
     },
     "inputWidgets": {},
     "nuid": "2bc5cf19-8393-4f98-912e-29960dd017c5",
     "showTitle": false,
     "tableResultSettingsMap": {},
     "title": ""
    }
   },
   "outputs": [],
   "source": [
    "#Faixa de preços\n",
    "Caro = order_items.filter(order_items['list_price']>=2000)\n",
    "display(Caro)"
   ]
  },
  {
   "cell_type": "code",
   "execution_count": 0,
   "metadata": {
    "application/vnd.databricks.v1+cell": {
     "cellMetadata": {
      "byteLimit": 2048000,
      "rowLimit": 10000
     },
     "inputWidgets": {},
     "nuid": "d9bcafa8-3689-4ec5-87d0-ef78276abf86",
     "showTitle": false,
     "tableResultSettingsMap": {},
     "title": ""
    }
   },
   "outputs": [],
   "source": [
    "#Exemplo col = localiza colunas\n",
    "from pyspark.sql.functions import col\n",
    "Medio = order_items.filter((col('list_price')>=300) & (col('list_price')<2000))\n",
    "display(Medio)"
   ]
  },
  {
   "cell_type": "code",
   "execution_count": 0,
   "metadata": {
    "application/vnd.databricks.v1+cell": {
     "cellMetadata": {
      "byteLimit": 2048000,
      "rowLimit": 10000
     },
     "inputWidgets": {},
     "nuid": "ca0ea10e-87e1-4613-9003-c559b3f36b3f",
     "showTitle": false,
     "tableResultSettingsMap": {},
     "title": ""
    }
   },
   "outputs": [],
   "source": [
    "# com variaveis \n",
    "ValorMinimo= 100\n",
    "ValorMaximo= 500\n",
    "\n",
    "df_resultado = order_items.filter((order_items['list_price'] >= ValorMinimo) & (order_items['list_price'] <= ValorMaximo))\n",
    "display(df_resultado)"
   ]
  },
  {
   "cell_type": "code",
   "execution_count": 0,
   "metadata": {
    "application/vnd.databricks.v1+cell": {
     "cellMetadata": {},
     "inputWidgets": {},
     "nuid": "357f3f34-c241-4166-94aa-43b1e80554bc",
     "showTitle": false,
     "tableResultSettingsMap": {},
     "title": ""
    }
   },
   "outputs": [],
   "source": []
  }
 ],
 "metadata": {
  "application/vnd.databricks.v1+notebook": {
   "computePreferences": null,
   "dashboards": [],
   "environmentMetadata": {
    "base_environment": "",
    "environment_version": "2"
   },
   "inputWidgetPreferences": null,
   "language": "python",
   "notebookMetadata": {
    "mostRecentlyExecutedCommandWithImplicitDF": {
     "commandId": 6921538074257551,
     "dataframes": [
      "_sqldf"
     ]
    },
    "pythonIndentUnit": 4
   },
   "notebookName": "09. Filtro no Databricks",
   "widgets": {}
  },
  "language_info": {
   "name": "python"
  }
 },
 "nbformat": 4,
 "nbformat_minor": 0
}