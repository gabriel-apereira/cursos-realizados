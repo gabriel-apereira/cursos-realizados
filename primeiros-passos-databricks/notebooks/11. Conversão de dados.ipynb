{
 "cells": [
  {
   "cell_type": "markdown",
   "metadata": {
    "application/vnd.databricks.v1+cell": {
     "cellMetadata": {},
     "inputWidgets": {},
     "nuid": "31d426d9-132e-4661-a7f4-f5458016040f",
     "showTitle": false,
     "tableResultSettingsMap": {},
     "title": ""
    }
   },
   "source": [
    "#####Renomeando Colunas withColumnRenamed e Alias"
   ]
  },
  {
   "cell_type": "code",
   "execution_count": 0,
   "metadata": {
    "application/vnd.databricks.v1+cell": {
     "cellMetadata": {
      "byteLimit": 2048000,
      "rowLimit": 10000
     },
     "inputWidgets": {},
     "nuid": "2711e1ec-7d62-4186-a821-8f1d817330a1",
     "showTitle": false,
     "tableResultSettingsMap": {},
     "title": ""
    }
   },
   "outputs": [],
   "source": [
    "df = spark.read.json('/Volumes/workspace/default/arquivos-cursoudemy/Anac/V_OCORRENCIA_AMPLA.json')\n",
    "display(df)"
   ]
  },
  {
   "cell_type": "code",
   "execution_count": 0,
   "metadata": {
    "application/vnd.databricks.v1+cell": {
     "cellMetadata": {
      "byteLimit": 2048000,
      "rowLimit": 10000
     },
     "inputWidgets": {},
     "nuid": "2367ace3-1638-41dd-81b2-18c9547d5d87",
     "showTitle": false,
     "tableResultSettingsMap": {},
     "title": ""
    }
   },
   "outputs": [],
   "source": [
    "#Sintaxe\n",
    "#df = df.withColumnRenamed(\"coluna_antiga\",\"coluna_nova\")"
   ]
  },
  {
   "cell_type": "code",
   "execution_count": 0,
   "metadata": {
    "application/vnd.databricks.v1+cell": {
     "cellMetadata": {
      "byteLimit": 2048000,
      "rowLimit": 10000
     },
     "inputWidgets": {},
     "nuid": "9d279d9d-425d-458c-939d-55f4d94007e7",
     "showTitle": false,
     "tableResultSettingsMap": {},
     "title": ""
    }
   },
   "outputs": [],
   "source": [
    "print(df.columns)"
   ]
  },
  {
   "cell_type": "code",
   "execution_count": 0,
   "metadata": {
    "application/vnd.databricks.v1+cell": {
     "cellMetadata": {
      "byteLimit": 2048000,
      "rowLimit": 10000
     },
     "inputWidgets": {},
     "nuid": "2068df52-fbee-47cc-99d2-147d63846f97",
     "showTitle": false,
     "tableResultSettingsMap": {
      "0": {
       "dataGridStateBlob": "{\"version\":1,\"tableState\":{\"columnPinning\":{\"left\":[\"#row_number#\"],\"right\":[]},\"columnSizing\":{},\"columnVisibility\":{}},\"settings\":{\"columns\":{}},\"syncTimestamp\":1753884078065}",
       "filterBlob": null,
       "queryPlanFiltersBlob": null,
       "tableResultIndex": 0
      }
     },
     "title": ""
    }
   },
   "outputs": [],
   "source": [
    "renomeado = df.withColumnRenamed('Aerodromo_de_Destino','Destino')\\\n",
    "            .withColumnRenamed('Aerodromo_de_Origem','Origem')\\\n",
    "            .withColumnRenamed('Danos_a_Aeronave','Danos')\\\n",
    "            .withColumnRenamed('UF', 'Estado')\n",
    "display(renomeado)"
   ]
  },
  {
   "cell_type": "code",
   "execution_count": 0,
   "metadata": {
    "application/vnd.databricks.v1+cell": {
     "cellMetadata": {
      "byteLimit": 2048000,
      "rowLimit": 10000
     },
     "inputWidgets": {},
     "nuid": "1fe477db-2342-4948-9d95-bce92598989d",
     "showTitle": false,
     "tableResultSettingsMap": {},
     "title": ""
    }
   },
   "outputs": [],
   "source": [
    "print(renomeado.columns)"
   ]
  },
  {
   "cell_type": "code",
   "execution_count": 0,
   "metadata": {
    "application/vnd.databricks.v1+cell": {
     "cellMetadata": {
      "byteLimit": 2048000,
      "rowLimit": 10000
     },
     "inputWidgets": {},
     "nuid": "1674fd21-2fa3-4536-97b8-85e246ac1a78",
     "showTitle": false,
     "tableResultSettingsMap": {},
     "title": ""
    }
   },
   "outputs": [],
   "source": [
    "Teste = df.select(df['Aerodromo_de_Destino'].alias('Destino'),\n",
    "                  df['Aerodromo_de_Origem'].alias('Origem'),\n",
    "                  df['Danos_a_Aeronave'].alias('Danos'),\n",
    "                  df['UF'].alias('Estado'),\n",
    "                  )\n",
    "display(Teste)"
   ]
  },
  {
   "cell_type": "markdown",
   "metadata": {
    "application/vnd.databricks.v1+cell": {
     "cellMetadata": {},
     "inputWidgets": {},
     "nuid": "5ade54c9-b91e-49d6-a071-e7f95d51f565",
     "showTitle": false,
     "tableResultSettingsMap": {},
     "title": ""
    }
   },
   "source": [
    "#####Conversão de Dados método cast + withColumn "
   ]
  },
  {
   "cell_type": "code",
   "execution_count": 0,
   "metadata": {
    "application/vnd.databricks.v1+cell": {
     "cellMetadata": {},
     "inputWidgets": {},
     "nuid": "03d8cd68-6d18-4cb2-815d-5e5855089003",
     "showTitle": false,
     "tableResultSettingsMap": {},
     "title": ""
    }
   },
   "outputs": [],
   "source": [
    "#Resumo\n",
    "#A função cast no PySpark aceita vários tipos de dados para a conversão\n",
    "\"\"\"\n",
    "string ou varchar: Texto.\n",
    "integer ou int:    Numero inteiro.\n",
    "long:              Numero inteiro longo.\n",
    "double:            precisão dupla.\n",
    "float:             precisão simples.\n",
    "decimal:           decimal.\n",
    "timestamp:         Data e hora.\n",
    "date:              Somente a Data.\n",
    "boolean:           booleana (True e False) 0=False e 1=True.\n",
    "\n",
    "\"\"\""
   ]
  },
  {
   "cell_type": "code",
   "execution_count": 0,
   "metadata": {
    "application/vnd.databricks.v1+cell": {
     "cellMetadata": {},
     "inputWidgets": {},
     "nuid": "e14f93a4-9724-4543-8c26-644171c3eeba",
     "showTitle": false,
     "tableResultSettingsMap": {},
     "title": ""
    }
   },
   "outputs": [],
   "source": [
    "#Curiosidades\n",
    "\"\"\"\n",
    "Qual diferença entre esses que trazem numeros decimais no geral\n",
    "double:            precisão dupla.\n",
    "float:             precisão simples.\n",
    "decimal:           decimal.\n",
    "\n",
    "----- numeros com longas casas decimais \n",
    "float (Precisão Simples 32 bits na memória):\n",
    "Mínimo: 1.40129846432 x 10^-45\n",
    "Máximo: 3.40282346639 x 10^38\n",
    "\n",
    "double (Precisão Dupla 64 bits na memória):\n",
    "Mínimo: 4.94065645841 x 10^-324\n",
    "Máximo: 1.79769313486 x 10^308\n",
    "\n",
    "decimal : pode escolher quantas casas decimais aparece no resultado \n",
    "O decimal usa uma representação decimal, o que permite maior precisão e evita muitos dos problemas de arredondamento associados ao float\n",
    "\n",
    "Decimal ou Float são mais ultilizados\n",
    "\n",
    "\"\"\""
   ]
  },
  {
   "cell_type": "code",
   "execution_count": 0,
   "metadata": {
    "application/vnd.databricks.v1+cell": {
     "cellMetadata": {
      "byteLimit": 2048000,
      "rowLimit": 10000
     },
     "inputWidgets": {},
     "nuid": "854a13eb-3b44-4759-bb50-ab007f0d4bde",
     "showTitle": false,
     "tableResultSettingsMap": {},
     "title": ""
    }
   },
   "outputs": [],
   "source": [
    "#Carga Df sem .option(\"inferSchema\", \"true\") sendo assim virá tudo como string, vamor ver na prática \n",
    "orders_df = spark.read.\\\n",
    "    format(\"csv\")\\\n",
    "    .option(\"header\", \"true\")\\\n",
    "    .load(\"/Volumes/workspace/default/arquivos-cursoudemy/Bike/orders.csv\")\n",
    "display(orders_df)"
   ]
  },
  {
   "cell_type": "code",
   "execution_count": 0,
   "metadata": {
    "application/vnd.databricks.v1+cell": {
     "cellMetadata": {
      "byteLimit": 2048000,
      "rowLimit": 10000
     },
     "inputWidgets": {},
     "nuid": "585becf3-defc-45c0-ae76-4628c74bc85c",
     "showTitle": false,
     "tableResultSettingsMap": {},
     "title": ""
    }
   },
   "outputs": [],
   "source": [
    "orders_df.printSchema()"
   ]
  },
  {
   "cell_type": "code",
   "execution_count": 0,
   "metadata": {
    "application/vnd.databricks.v1+cell": {
     "cellMetadata": {
      "byteLimit": 2048000,
      "rowLimit": 10000
     },
     "inputWidgets": {},
     "nuid": "cf926c4a-a61b-4700-929b-b0094f9e83f5",
     "showTitle": false,
     "tableResultSettingsMap": {},
     "title": ""
    }
   },
   "outputs": [],
   "source": [
    "#Converter dados com withColumn\n",
    "orders_df = orders_df.withColumn('order_id',orders_df['order_id'].cast('int') )\n",
    "orders_df = orders_df.withColumn('customer_id',orders_df['customer_id'].cast('integer') ) \n",
    "orders_df = orders_df.withColumn('order_date',orders_df['order_date'].cast('date'))\n",
    "orders_df = orders_df.withColumn('required_date',orders_df['required_date'].cast('date'))\n",
    "display(orders_df)"
   ]
  },
  {
   "cell_type": "code",
   "execution_count": 0,
   "metadata": {
    "application/vnd.databricks.v1+cell": {
     "cellMetadata": {
      "byteLimit": 2048000,
      "rowLimit": 10000
     },
     "inputWidgets": {},
     "nuid": "5f38b9d4-00d9-4815-b71b-b94fee01012a",
     "showTitle": false,
     "tableResultSettingsMap": {},
     "title": ""
    }
   },
   "outputs": [],
   "source": [
    "#Carga Df sem .option(\"inferSchema\", \"true\") sendo assim virá tudo como string, vamor ver na prática \n",
    "orders_df2 = spark.read.\\\n",
    "    format(\"csv\")\\\n",
    "    .option(\"header\", \"true\")\\\n",
    "    .load(\"/Volumes/workspace/default/arquivos-cursoudemy/Bike/orders.csv\")\n",
    "display(orders_df2)"
   ]
  },
  {
   "cell_type": "code",
   "execution_count": 0,
   "metadata": {
    "application/vnd.databricks.v1+cell": {
     "cellMetadata": {
      "byteLimit": 2048000,
      "rowLimit": 10000
     },
     "inputWidgets": {},
     "nuid": "8b500e8e-6098-4a0a-bb04-fc1a20c12cb6",
     "showTitle": false,
     "tableResultSettingsMap": {},
     "title": ""
    }
   },
   "outputs": [],
   "source": [
    "orders_df2 = orders_df2.select(\n",
    "                orders_df2['order_id'].cast(\"integer\"),\n",
    "                orders_df2['order_date'].cast(\"date\"),\n",
    "                orders_df2['store_id'].cast(\"int\"),\n",
    "                orders_df2['staff_id'].cast(\"int\").alias(\"IdLoja\"),\n",
    "                orders_df2['order_status'].cast(\"int\").alias(\"Status_Entrega\"),\n",
    ")\n",
    "display(orders_df2)"
   ]
  },
  {
   "cell_type": "markdown",
   "metadata": {
    "application/vnd.databricks.v1+cell": {
     "cellMetadata": {},
     "inputWidgets": {},
     "nuid": "3fcd40e8-6ab4-4daf-b286-c54030f73b9e",
     "showTitle": false,
     "tableResultSettingsMap": {},
     "title": ""
    }
   },
   "source": [
    "#####Conversões númericas Avançadas"
   ]
  },
  {
   "cell_type": "code",
   "execution_count": 0,
   "metadata": {
    "application/vnd.databricks.v1+cell": {
     "cellMetadata": {
      "byteLimit": 2048000,
      "rowLimit": 10000
     },
     "inputWidgets": {},
     "nuid": "6b98aa28-4e92-4e19-b044-f912d254f122",
     "showTitle": false,
     "tableResultSettingsMap": {},
     "title": ""
    }
   },
   "outputs": [],
   "source": [
    "Items = spark.read\\\n",
    "    .format(\"csv\")\\\n",
    "    .option(\"header\", \"true\")\\\n",
    "    .option(\"inferSchema\", \"true\")\\\n",
    "    .load(\"/Volumes/workspace/default/arquivos-cursoudemy/Bike/order_items.csv\")\n",
    "display(Items)"
   ]
  },
  {
   "cell_type": "code",
   "execution_count": 0,
   "metadata": {
    "application/vnd.databricks.v1+cell": {
     "cellMetadata": {
      "byteLimit": 2048000,
      "rowLimit": 10000
     },
     "inputWidgets": {},
     "nuid": "24c1617c-0ab4-4cec-aba5-764161bd5e89",
     "showTitle": false,
     "tableResultSettingsMap": {},
     "title": ""
    }
   },
   "outputs": [],
   "source": [
    "print(Items.columns)"
   ]
  },
  {
   "cell_type": "code",
   "execution_count": 0,
   "metadata": {
    "application/vnd.databricks.v1+cell": {
     "cellMetadata": {
      "byteLimit": 2048000,
      "rowLimit": 10000
     },
     "inputWidgets": {},
     "nuid": "3f149914-192b-431a-ba35-c53af3cdd41d",
     "showTitle": false,
     "tableResultSettingsMap": {},
     "title": ""
    }
   },
   "outputs": [],
   "source": [
    "#formato double\n",
    "fracionado = Items.withColumn('Fracao',Items['list_price']/2.03)\n",
    "display(fracionado)"
   ]
  },
  {
   "cell_type": "code",
   "execution_count": 0,
   "metadata": {
    "application/vnd.databricks.v1+cell": {
     "cellMetadata": {
      "byteLimit": 2048000,
      "rowLimit": 10000
     },
     "inputWidgets": {},
     "nuid": "af035ae3-e80d-4f73-8702-61cbb3f3a37b",
     "showTitle": false,
     "tableResultSettingsMap": {
      "0": {
       "dataGridStateBlob": "{\"version\":1,\"tableState\":{\"columnPinning\":{\"left\":[\"#row_number#\"],\"right\":[]},\"columnSizing\":{},\"columnVisibility\":{}},\"settings\":{\"columns\":{}},\"syncTimestamp\":1753892853749}",
       "filterBlob": null,
       "queryPlanFiltersBlob": null,
       "tableResultIndex": 0
      }
     },
     "title": ""
    }
   },
   "outputs": [],
   "source": [
    "#criando novas colunas ja convertidas\n",
    "fracionado2 = fracionado\\\n",
    "                        .withColumn('double',fracionado['Fracao'])\\\n",
    "                        .withColumn('Inteiro',fracionado['Fracao'].cast('int'))\\\n",
    "                        .withColumn('Float',fracionado['Fracao'].cast('float'))\\\n",
    "                        .withColumn('Decimal',fracionado['Fracao'].cast('decimal(10,2)'))\n",
    "display(fracionado2)"
   ]
  },
  {
   "cell_type": "code",
   "execution_count": 0,
   "metadata": {
    "application/vnd.databricks.v1+cell": {
     "cellMetadata": {},
     "inputWidgets": {},
     "nuid": "143112c5-04ef-4b2b-b6b1-3f2ec14e27f6",
     "showTitle": false,
     "tableResultSettingsMap": {},
     "title": ""
    }
   },
   "outputs": [],
   "source": [
    "#Observação\n",
    "\"\"\"\n",
    "Obs : 'decimal(10,2)'  \n",
    "o valor decimal terá um máximo de 10 dígitos no total (incluindo os dígitos à esquerda e à direita do ponto decimal) e 2 dígitos à direita do ponto decimal.\n",
    "\"\"\""
   ]
  },
  {
   "cell_type": "code",
   "execution_count": 0,
   "metadata": {
    "application/vnd.databricks.v1+cell": {
     "cellMetadata": {
      "byteLimit": 2048000,
      "rowLimit": 10000
     },
     "inputWidgets": {},
     "nuid": "ec0fb184-6541-4da6-b0e6-16c3beb3873e",
     "showTitle": false,
     "tableResultSettingsMap": {},
     "title": ""
    }
   },
   "outputs": [],
   "source": [
    "#Substituindo o double por decimal no Df\n",
    "display(fracionado)"
   ]
  },
  {
   "cell_type": "code",
   "execution_count": 0,
   "metadata": {
    "application/vnd.databricks.v1+cell": {
     "cellMetadata": {
      "byteLimit": 2048000,
      "rowLimit": 10000
     },
     "inputWidgets": {},
     "nuid": "6f923ba8-dda8-40e0-a1f0-a6c429f35fae",
     "showTitle": false,
     "tableResultSettingsMap": {},
     "title": ""
    }
   },
   "outputs": [],
   "source": [
    "fracionado = fracionado.withColumn('Fracao',fracionado['Fracao'].cast('decimal(10,2)'))\n",
    "display(fracionado)"
   ]
  },
  {
   "cell_type": "markdown",
   "metadata": {
    "application/vnd.databricks.v1+cell": {
     "cellMetadata": {},
     "inputWidgets": {},
     "nuid": "64bb0872-4412-4d32-809d-db81a5e5f75a",
     "showTitle": false,
     "tableResultSettingsMap": {},
     "title": ""
    }
   },
   "source": [
    "#####Arredondamento de Numeros"
   ]
  },
  {
   "cell_type": "code",
   "execution_count": 0,
   "metadata": {
    "application/vnd.databricks.v1+cell": {
     "cellMetadata": {
      "byteLimit": 2048000,
      "rowLimit": 10000
     },
     "inputWidgets": {},
     "nuid": "8feb7432-77ec-419a-a2d0-6509b110ca77",
     "showTitle": false,
     "tableResultSettingsMap": {},
     "title": ""
    }
   },
   "outputs": [],
   "source": [
    "#Caso a maquina reset, rodar a parte acima até gerar o Df abaixo (fracionado2)\n",
    "display(fracionado2)"
   ]
  },
  {
   "cell_type": "code",
   "execution_count": 0,
   "metadata": {
    "application/vnd.databricks.v1+cell": {
     "cellMetadata": {
      "byteLimit": 2048000,
      "rowLimit": 10000
     },
     "inputWidgets": {},
     "nuid": "bf53901a-e531-45bb-a992-1d1f9bb17b29",
     "showTitle": false,
     "tableResultSettingsMap": {},
     "title": ""
    }
   },
   "outputs": [],
   "source": [
    "#Aproveitar  script fracionado2 para Treinar \n",
    "\"\"\"\n",
    "floor (arredondamento para baixo)\n",
    "ceil  (arredondamento para cima)\n",
    "round (arredondamento Automatico)\n",
    "\"\"\"\n",
    "\n",
    "from pyspark.sql.functions import floor, ceil , round\n",
    "Arred = fracionado2\\\n",
    "    .withColumn('ArredAcima', ceil(fracionado2.double))\\\n",
    "    .withColumn('ArredAbaixo',floor(fracionado2.double))\\\n",
    "    .withColumn('ArredAutomatico',round(fracionado2.double))\n",
    "display(Arred)\n"
   ]
  },
  {
   "cell_type": "markdown",
   "metadata": {
    "application/vnd.databricks.v1+cell": {
     "cellMetadata": {},
     "inputWidgets": {},
     "nuid": "60d982f1-0ff7-4033-b038-5f7070675f6f",
     "showTitle": false,
     "tableResultSettingsMap": {},
     "title": ""
    }
   },
   "source": [
    "#####Trabalhando com Datas"
   ]
  },
  {
   "cell_type": "code",
   "execution_count": 0,
   "metadata": {
    "application/vnd.databricks.v1+cell": {
     "cellMetadata": {
      "byteLimit": 2048000,
      "rowLimit": 10000
     },
     "inputWidgets": {},
     "nuid": "e56ac8a5-8a03-40e7-984a-679d7be43088",
     "showTitle": false,
     "tableResultSettingsMap": {},
     "title": ""
    }
   },
   "outputs": [],
   "source": [
    "orders_df = spark.read\\\n",
    "    .format(\"csv\")\\\n",
    "    .option(\"header\", \"true\")\\\n",
    "    .option(\"inferSchema\", \"true\")\\\n",
    "    .load(\"/Volumes/workspace/default/arquivos-cursoudemy/Bike/orders.csv\")\n",
    "display(orders_df)"
   ]
  },
  {
   "cell_type": "code",
   "execution_count": 0,
   "metadata": {
    "application/vnd.databricks.v1+cell": {
     "cellMetadata": {
      "byteLimit": 2048000,
      "rowLimit": 10000
     },
     "inputWidgets": {},
     "nuid": "90f1976d-7ec0-46c3-ba5e-3cd0f1a8fd84",
     "showTitle": false,
     "tableResultSettingsMap": {},
     "title": ""
    }
   },
   "outputs": [],
   "source": [
    "orders_df.printSchema()"
   ]
  },
  {
   "cell_type": "code",
   "execution_count": 0,
   "metadata": {
    "application/vnd.databricks.v1+cell": {
     "cellMetadata": {
      "byteLimit": 2048000,
      "rowLimit": 10000
     },
     "inputWidgets": {},
     "nuid": "3129e579-b001-46b2-989e-37a402defa18",
     "showTitle": false,
     "tableResultSettingsMap": {},
     "title": ""
    }
   },
   "outputs": [],
   "source": [
    "#Extraindo partes das datas através de um campo\n",
    "from pyspark.sql.functions import year,month,dayofmonth\n",
    "\n",
    "orders_df = orders_df\\\n",
    "    .withColumn('ano_pedido',year(orders_df['order_date']))\\\n",
    "    .withColumn('mes_pedido',month(orders_df['order_date']))\\\n",
    "    .withColumn('dia_pedido',dayofmonth(orders_df['order_date']))\n",
    "display(orders_df)\n"
   ]
  },
  {
   "cell_type": "code",
   "execution_count": 0,
   "metadata": {
    "application/vnd.databricks.v1+cell": {
     "cellMetadata": {
      "byteLimit": 2048000,
      "rowLimit": 10000
     },
     "inputWidgets": {},
     "nuid": "6934f45e-bbf5-495b-bc6e-d503b116584e",
     "showTitle": false,
     "tableResultSettingsMap": {},
     "title": ""
    }
   },
   "outputs": [],
   "source": [
    "#usando a classe datetime, expr(permite calculos com datas)\n",
    "from pyspark.sql.functions import expr\n",
    "from datetime import datetime\n",
    "orders_df2 = orders_df\\\n",
    "                     .withColumn(\"ano_pedido\", expr(\"year(order_date)\")) \\\n",
    "                     .withColumn(\"mes_pedido\", expr(\"month(order_date)\")) \\\n",
    "                     .withColumn(\"dia_pedido\", expr(\"day(order_date)\"))\n",
    "display(orders_df2)"
   ]
  },
  {
   "cell_type": "code",
   "execution_count": 0,
   "metadata": {
    "application/vnd.databricks.v1+cell": {
     "cellMetadata": {
      "byteLimit": 2048000,
      "rowLimit": 10000
     },
     "inputWidgets": {},
     "nuid": "14d3d1bd-aac2-41bc-b5e3-9a6f2193fc94",
     "showTitle": false,
     "tableResultSettingsMap": {},
     "title": ""
    }
   },
   "outputs": [],
   "source": [
    "#Simulando manter registro de quando os dados foram carregados (Muito comum no dia a dia para rastreio se os dados foram atualizados ou nao )\n",
    "\n",
    "#formato brasil -3h\n",
    "#   .withColumn(\"data_hora_br\", expr(\"from_utc_timestamp(current_timestamp(), 'America/Sao_Paulo')\"))\n",
    "\n",
    "from pyspark.sql.functions import current_date,current_timestamp ,expr\n",
    "\n",
    "orders_df = orders_df \\\n",
    "    .withColumn(\"data_atual\", current_date()) \\\n",
    "    .withColumn(\"data_hora_atual\", current_timestamp()) \\\n",
    "    .withColumn(\"data_hora_br\", expr(\"from_utc_timestamp(current_timestamp(), 'America/Sao_Paulo')\"))\n",
    "\n",
    "display(orders_df)\n"
   ]
  },
  {
   "cell_type": "code",
   "execution_count": 0,
   "metadata": {
    "application/vnd.databricks.v1+cell": {
     "cellMetadata": {},
     "inputWidgets": {},
     "nuid": "cf7594a1-8023-460a-883c-56dd61210c70",
     "showTitle": false,
     "tableResultSettingsMap": {},
     "title": ""
    }
   },
   "outputs": [],
   "source": [
    "\"\"\"\n",
    "referencias \n",
    "https://docs.databricks.com/en/sql/language-manual/functions/from_utc_timestamp.html\n",
    "https://spark.apache.org/docs/3.1.2/api/python/reference/api/pyspark.sql.functions.from_utc_timestamp.html\n",
    "\"\"\""
   ]
  },
  {
   "cell_type": "code",
   "execution_count": 0,
   "metadata": {
    "application/vnd.databricks.v1+cell": {
     "cellMetadata": {
      "byteLimit": 2048000,
      "rowLimit": 10000
     },
     "inputWidgets": {},
     "nuid": "4a5525c5-ccbe-4ee8-b567-11c81ecf07ef",
     "showTitle": false,
     "tableResultSettingsMap": {},
     "title": ""
    }
   },
   "outputs": [],
   "source": [
    "#Extraindo horas minutos e Segundos \n",
    "from pyspark.sql.functions import year, month, dayofmonth, hour, minute, second\n",
    "orders_df = orders_df\\\n",
    "                     .withColumn(\"hora_carga\", hour(\"data_hora_br\")) \\\n",
    "                     .withColumn(\"minuto_carga\", minute(\"data_hora_br\")) \\\n",
    "                     .withColumn(\"segundo_carga\", second(\"data_hora_br\"))\n",
    "\n",
    "display(orders_df)\n",
    "\n"
   ]
  },
  {
   "cell_type": "markdown",
   "metadata": {
    "application/vnd.databricks.v1+cell": {
     "cellMetadata": {},
     "inputWidgets": {},
     "nuid": "47c81d8f-7a24-43f8-bdd7-5d081faf6aff",
     "showTitle": false,
     "tableResultSettingsMap": {},
     "title": ""
    }
   },
   "source": [
    "##### Comandos e Formatos de Datas avançado "
   ]
  },
  {
   "cell_type": "code",
   "execution_count": 0,
   "metadata": {
    "application/vnd.databricks.v1+cell": {
     "cellMetadata": {
      "byteLimit": 2048000,
      "rowLimit": 10000
     },
     "inputWidgets": {},
     "nuid": "aa04b7ed-5b9f-4399-bfad-dfb66408794e",
     "showTitle": false,
     "tableResultSettingsMap": {},
     "title": ""
    }
   },
   "outputs": [],
   "source": [
    "orders_df = spark.read\\\n",
    "    .format(\"csv\")\\\n",
    "    .option(\"header\", \"true\")\\\n",
    "    .option(\"inferSchema\", \"true\")\\\n",
    "    .load(\"/Volumes/workspace/default/arquivos-cursoudemy/Bike/orders.csv\")\n",
    "display(orders_df)"
   ]
  },
  {
   "cell_type": "code",
   "execution_count": 0,
   "metadata": {
    "application/vnd.databricks.v1+cell": {
     "cellMetadata": {
      "byteLimit": 2048000,
      "rowLimit": 10000
     },
     "inputWidgets": {},
     "nuid": "2267e7f4-1960-428f-9c3b-8ffe14f96ea7",
     "showTitle": false,
     "tableResultSettingsMap": {},
     "title": ""
    }
   },
   "outputs": [],
   "source": [
    "#Formato PT-Br\n",
    "\n",
    "from pyspark.sql.functions import date_format\n",
    "orders_df = orders_df.withColumn(\"data_formatada\",date_format(orders_df['order_date'],'dd/MM/yyyy'))\n",
    "display(orders_df)"
   ]
  },
  {
   "cell_type": "code",
   "execution_count": 0,
   "metadata": {
    "application/vnd.databricks.v1+cell": {
     "cellMetadata": {
      "byteLimit": 2048000,
      "rowLimit": 10000
     },
     "inputWidgets": {},
     "nuid": "47dd76ea-5482-4d91-ac2a-ce32e46cdd13",
     "showTitle": false,
     "tableResultSettingsMap": {},
     "title": ""
    }
   },
   "outputs": [],
   "source": [
    "#Exemplos outros formatos\n",
    "from pyspark.sql.functions import date_format \n",
    "\n",
    "orders_df = orders_df\\\n",
    "        .withColumn(\"Exemplo1\", date_format(orders_df['order_date'],\"yyyy MM dd\"))\\\n",
    "        .withColumn(\"Exemplo2\", date_format(orders_df['order_date'],\"MM/dd/yyyy HH:mm\"))\\\n",
    "        .withColumn(\"Exemplo3\", date_format(orders_df['order_date'],\"MM-yyyy\"))\\\n",
    "        .withColumn(\"Exemplo4\", date_format(orders_df['order_date'],\"yyyy MMM dd\"))\\\n",
    "        .withColumn(\"Exemplo5\", date_format(orders_df['order_date'],\"yyyy MMMM dd E\"))\\\n",
    "        .withColumn(\"Exemplo6\", date_format(orders_df['order_date'],\"MMM\"))\\\n",
    "        .withColumn(\"Exemplo7\", date_format(orders_df['order_date'],\"MMM-yyyy\"))   \n",
    "\n",
    "display(orders_df)\n"
   ]
  },
  {
   "cell_type": "markdown",
   "metadata": {
    "application/vnd.databricks.v1+cell": {
     "cellMetadata": {},
     "inputWidgets": {},
     "nuid": "be2945e4-d7d4-44b3-b26a-9ce5c3ea6cae",
     "showTitle": false,
     "tableResultSettingsMap": {},
     "title": ""
    }
   },
   "source": [
    "##### Traduçoes para portugues\n"
   ]
  },
  {
   "cell_type": "code",
   "execution_count": 0,
   "metadata": {
    "application/vnd.databricks.v1+cell": {
     "cellMetadata": {
      "byteLimit": 2048000,
      "rowLimit": 10000
     },
     "inputWidgets": {},
     "nuid": "cfce0f42-f461-4bc2-a90c-bbeb52ea2700",
     "showTitle": false,
     "tableResultSettingsMap": {},
     "title": ""
    }
   },
   "outputs": [],
   "source": [
    "#conversao para portugues método when \n",
    "from pyspark.sql.functions import when\n",
    "orders_df2 = orders_df.withColumn(\"Exemplo6\",\n",
    "                                    when(orders_df['Exemplo6'] ==\"Jan\",\"Jan\")\n",
    "                                   .when(orders_df['Exemplo6'] ==\"Feb\",\"Fev\")\n",
    "                                   .when(orders_df['Exemplo6'] ==\"Mar\",\"Mar\")\n",
    "                                   .when(orders_df['Exemplo6'] ==\"Apr\",\"Abr\")\n",
    "                                   .when(orders_df['Exemplo6'] ==\"May\",\"Mai\")\n",
    "                                   .when(orders_df['Exemplo6'] ==\"Jun\",\"Jun\")\n",
    "                                   .when(orders_df['Exemplo6'] ==\"Jul\",\"Jul\")\n",
    "                                   .when(orders_df['Exemplo6'] ==\"Aug\",\"Ago\")\n",
    "                                   .when(orders_df['Exemplo6'] ==\"Sep\",\"Set\")\n",
    "                                   .when(orders_df['Exemplo6'] ==\"Oct\",\"Out\")\n",
    "                                   .when(orders_df['Exemplo6'] ==\"Nov\",\"Nov\")\n",
    "                                   .when(orders_df['Exemplo6'] ==\"Dec\",\"Dez\")\n",
    "                                   .otherwise(orders_df['Exemplo6']))\n",
    "\n",
    "display(orders_df2)\n"
   ]
  },
  {
   "cell_type": "code",
   "execution_count": 0,
   "metadata": {
    "application/vnd.databricks.v1+cell": {
     "cellMetadata": {},
     "inputWidgets": {},
     "nuid": "3efa3b15-cc9c-4c40-8e65-8e15ffea2a18",
     "showTitle": false,
     "tableResultSettingsMap": {},
     "title": ""
    }
   },
   "outputs": [],
   "source": [
    "#Colinha\n",
    "\"\"\"\n",
    "MMM >mes abrev \n",
    "\"Jan Feb Mar Apr May Jun Jul Aug Sep Oct Nov Dec\",\n",
    "\"Jan Fev Mar Abr Mai Jun Jul Ago Set Out Nov Dez\"\n",
    "\n",
    "MMMM > mes completo\n",
    "\"January February March April May June July August September October November December\",\n",
    "\"Janeiro Fevereiro Março Abril Maio Junho Julho Agosto Setembro Outubro Novembro Dezembro\"\n",
    "\n",
    "\n",
    "E > dia da semana \n",
    "\"Sun Mon Tue Wed Thu Fri Sat\", \n",
    "\"Dom Seg Ter Qua Qui Sex Sáb\"\n",
    "\n",
    "EEEE > dia da semana completo\n",
    "\"Sunday Monday Tuesday Wednesday Thursday Friday Saturday\", \n",
    "\"Domingo Segunda-feira Terça-feira Quarta-feira Quinta-feira Sexta-feira Sábado\"\n",
    "\n",
    "\n",
    "\"\"\""
   ]
  },
  {
   "cell_type": "markdown",
   "metadata": {
    "application/vnd.databricks.v1+cell": {
     "cellMetadata": {},
     "inputWidgets": {},
     "nuid": "12cdde63-5728-4f60-b856-678c88987aa8",
     "showTitle": false,
     "tableResultSettingsMap": {},
     "title": ""
    }
   },
   "source": [
    "#####Diferença entre Datas Adição e Subtração"
   ]
  },
  {
   "cell_type": "markdown",
   "metadata": {
    "application/vnd.databricks.v1+cell": {
     "cellMetadata": {},
     "inputWidgets": {},
     "nuid": "90df5329-ccf5-4983-8d44-a63099140f8f",
     "showTitle": false,
     "tableResultSettingsMap": {},
     "title": ""
    }
   },
   "source": [
    "######Diferença entre datas"
   ]
  },
  {
   "cell_type": "code",
   "execution_count": 0,
   "metadata": {
    "application/vnd.databricks.v1+cell": {
     "cellMetadata": {
      "byteLimit": 2048000,
      "rowLimit": 10000
     },
     "inputWidgets": {},
     "nuid": "66b54e2e-c085-4531-80fa-fee0cf701baf",
     "showTitle": false,
     "tableResultSettingsMap": {},
     "title": ""
    }
   },
   "outputs": [],
   "source": [
    "orders_df = spark.read\\\n",
    "    .format(\"csv\")\\\n",
    "    .option(\"header\", \"true\")\\\n",
    "    .option(\"inferSchema\", \"true\")\\\n",
    "    .load(\"/Volumes/workspace/default/arquivos-cursoudemy/Bike/orders.csv\")\n",
    "display(orders_df)"
   ]
  },
  {
   "cell_type": "code",
   "execution_count": 0,
   "metadata": {
    "application/vnd.databricks.v1+cell": {
     "cellMetadata": {
      "byteLimit": 2048000,
      "rowLimit": 10000
     },
     "inputWidgets": {},
     "nuid": "c924bf2a-2290-4455-823c-91c02685774d",
     "showTitle": false,
     "tableResultSettingsMap": {},
     "title": ""
    }
   },
   "outputs": [],
   "source": [
    "from pyspark.sql.functions import datediff, months_between, year\n",
    "\n",
    "orders_df = orders_df.withColumn(\"Diferenca_Dias\",datediff(\"required_date\",\"order_date\"))\\\n",
    "                    .withColumn(\"Diferenca_Meses\",months_between(\"required_date\",\"order_date\"))\\\n",
    "                    .withColumn(\"Diferenca_Anos\",year(\"required_date\")-year(\"order_date\"))\n",
    "\n",
    "display(orders_df)"
   ]
  },
  {
   "cell_type": "code",
   "execution_count": 0,
   "metadata": {
    "application/vnd.databricks.v1+cell": {
     "cellMetadata": {
      "byteLimit": 2048000,
      "rowLimit": 10000
     },
     "inputWidgets": {},
     "nuid": "5e0ca98f-fd9a-416e-8816-08f00a5e3a16",
     "showTitle": false,
     "tableResultSettingsMap": {},
     "title": ""
    }
   },
   "outputs": [],
   "source": [
    "#Simulando diferença de alguma coluna de data com a data Atual \n",
    "from pyspark.sql.functions import datediff, months_between, year ,current_date\n",
    "\n",
    "orders_df = orders_df.withColumn(\"diferenca_dias\", datediff( current_date(),\"required_date\")) \\\n",
    "                     .withColumn(\"diferenca_meses\", months_between(current_date(),\"required_date\")) \\\n",
    "                     .withColumn(\"diferenca_anos\", year(current_date()) -  year(\"required_date\"))\n",
    "\n",
    "display(orders_df)"
   ]
  },
  {
   "cell_type": "markdown",
   "metadata": {
    "application/vnd.databricks.v1+cell": {
     "cellMetadata": {},
     "inputWidgets": {},
     "nuid": "4b38b8c1-2cc7-4bba-932b-f22a628571e9",
     "showTitle": false,
     "tableResultSettingsMap": {},
     "title": ""
    }
   },
   "source": [
    "###### Adicionar intervalos em Datas"
   ]
  },
  {
   "cell_type": "code",
   "execution_count": 0,
   "metadata": {
    "application/vnd.databricks.v1+cell": {
     "cellMetadata": {
      "byteLimit": 2048000,
      "rowLimit": 10000
     },
     "inputWidgets": {},
     "nuid": "c02a4e44-a43a-4ea2-9a4e-fe819dc0a710",
     "showTitle": false,
     "tableResultSettingsMap": {},
     "title": ""
    }
   },
   "outputs": [],
   "source": [
    "orders_df = spark.read\\\n",
    "    .format(\"csv\")\\\n",
    "    .option(\"header\", \"true\")\\\n",
    "    .option(\"inferSchema\", \"true\")\\\n",
    "    .load(\"/Volumes/workspace/default/arquivos-cursoudemy/Bike/orders.csv\")\n",
    "display(orders_df)"
   ]
  },
  {
   "cell_type": "code",
   "execution_count": 0,
   "metadata": {
    "application/vnd.databricks.v1+cell": {
     "cellMetadata": {
      "byteLimit": 2048000,
      "rowLimit": 10000
     },
     "inputWidgets": {},
     "nuid": "7402edc2-95e4-4ccc-9337-a1c9f43b59ad",
     "showTitle": false,
     "tableResultSettingsMap": {},
     "title": ""
    }
   },
   "outputs": [],
   "source": [
    "from pyspark.sql.functions import expr\n",
    "\n",
    "# Adicionar coluna 'previsao_entrega' com 5 dias adicionados à 'order_date'\n",
    "# Adicionar coluna 'pagamento' com 1 mês adicionado à 'order_date'\n",
    "# Adicionar coluna 'devolucao' com 1 Ano adicionado à 'order_date'\n",
    "\n",
    "orders_df = orders_df\\\n",
    "                     .withColumn(\"previsao_entrega\", expr(\"order_date + interval 5 days\"))\\\n",
    "                     .withColumn(\"pagamento\", expr(\"order_date + interval 1 month\"))\\\n",
    "                     .withColumn(\"max_devolucao\", expr(\"order_date + interval 1 year\"))\n",
    "display(orders_df)"
   ]
  },
  {
   "cell_type": "code",
   "execution_count": 0,
   "metadata": {
    "application/vnd.databricks.v1+cell": {
     "cellMetadata": {
      "byteLimit": 2048000,
      "rowLimit": 10000
     },
     "inputWidgets": {},
     "nuid": "69d62878-04c4-4cf0-b21f-d0fe40c0a501",
     "showTitle": false,
     "tableResultSettingsMap": {},
     "title": ""
    }
   },
   "outputs": [],
   "source": [
    "#simulação rápida tirando intervalos\n",
    "orders_df = orders_df\\\n",
    "                     .withColumn(\"previsao_entrega\", expr(\"order_date - interval 5 days\"))\\\n",
    "                     .withColumn(\"pagamento\", expr(\"order_date - interval 1 month\"))\\\n",
    "                     .withColumn(\"max_devolucao\", expr(\"order_date - interval 1 year\"))\n",
    "display(orders_df)\n"
   ]
  },
  {
   "cell_type": "markdown",
   "metadata": {
    "application/vnd.databricks.v1+cell": {
     "cellMetadata": {},
     "inputWidgets": {},
     "nuid": "a8ec968e-7ad4-46ee-9f64-429fd4ec4795",
     "showTitle": false,
     "tableResultSettingsMap": {},
     "title": ""
    }
   },
   "source": [
    "##### Datas em SQL\n"
   ]
  },
  {
   "cell_type": "code",
   "execution_count": 0,
   "metadata": {
    "application/vnd.databricks.v1+cell": {
     "cellMetadata": {
      "byteLimit": 2048000,
      "rowLimit": 10000
     },
     "inputWidgets": {},
     "nuid": "bd96276a-c2be-4a75-943f-974a6b017e42",
     "showTitle": false,
     "tableResultSettingsMap": {},
     "title": ""
    }
   },
   "outputs": [],
   "source": [
    "orders_df = spark.read\\\n",
    "    .format(\"csv\")\\\n",
    "    .option(\"header\", \"true\")\\\n",
    "    .option(\"inferSchema\", \"true\")\\\n",
    "    .load(\"/Volumes/workspace/default/arquivos-cursoudemy/Bike/orders.csv\")\n",
    "display(orders_df)"
   ]
  },
  {
   "cell_type": "code",
   "execution_count": 0,
   "metadata": {
    "application/vnd.databricks.v1+cell": {
     "cellMetadata": {
      "byteLimit": 2048000,
      "rowLimit": 10000
     },
     "inputWidgets": {},
     "nuid": "663e35b9-43f8-400e-9ad7-88e4dad3b0e5",
     "showTitle": false,
     "tableResultSettingsMap": {},
     "title": ""
    }
   },
   "outputs": [],
   "source": [
    "orders_df.createOrReplaceTempView(\"tabela_ordens\")"
   ]
  },
  {
   "cell_type": "code",
   "execution_count": 0,
   "metadata": {
    "application/vnd.databricks.v1+cell": {
     "cellMetadata": {
      "byteLimit": 2048000,
      "implicitDf": true,
      "rowLimit": 10000
     },
     "inputWidgets": {},
     "nuid": "121741ee-d9f8-4cbd-8264-7bf9588d5bba",
     "showTitle": false,
     "tableResultSettingsMap": {},
     "title": ""
    }
   },
   "outputs": [],
   "source": [
    "%sql\n",
    "select * from tabela_ordens"
   ]
  },
  {
   "cell_type": "code",
   "execution_count": 0,
   "metadata": {
    "application/vnd.databricks.v1+cell": {
     "cellMetadata": {
      "byteLimit": 2048000,
      "implicitDf": true,
      "rowLimit": 10000
     },
     "inputWidgets": {},
     "nuid": "1714cf89-18ce-4610-8d85-cde7598a4c27",
     "showTitle": false,
     "tableResultSettingsMap": {},
     "title": ""
    }
   },
   "outputs": [],
   "source": [
    "%sql\n",
    "--extraindo partes de uma data\n",
    "select*,\n",
    "        YEAR(order_date) as Ano,\n",
    "        MONTH(order_date) as Mes,\n",
    "        DAY(order_date) as Dia\n",
    "from tabela_ordens"
   ]
  },
  {
   "cell_type": "code",
   "execution_count": 0,
   "metadata": {
    "application/vnd.databricks.v1+cell": {
     "cellMetadata": {
      "byteLimit": 2048000,
      "implicitDf": true,
      "rowLimit": 10000
     },
     "inputWidgets": {},
     "nuid": "5b3df5f8-1dca-4a8f-8963-374d04f37c7d",
     "showTitle": false,
     "tableResultSettingsMap": {},
     "title": ""
    }
   },
   "outputs": [],
   "source": [
    "%sql \n",
    "-- para treinar   \n",
    "-- traduções: now ou  current_timestamp  = carimbo de data/hora atual\n",
    "-- muito usado para ter coluna ou colunas de quando os daos foram carregados para base, arquivos banco de dados etc\n",
    "--  converter fuso horário from_utc_timestamp\n",
    "\n",
    "select * ,\n",
    "now() as agora,\n",
    "current_timestamp() AS agora2,\n",
    "from_utc_timestamp(current_timestamp(), 'America/Sao_Paulo') AS agora_PTBR,\n",
    "date_format(from_utc_timestamp(current_timestamp(), 'America/Sao_Paulo'), 'yyyy-MM-dd HH:mm:ss') AS agora_formatado,\n",
    "date_format(from_utc_timestamp(current_timestamp(), 'America/Sao_Paulo'), 'dd/MM/yyyy') AS agora_formatado_brasil,\n",
    "date_format(from_utc_timestamp(current_timestamp(), 'America/Sao_Paulo'), 'dd/MM/yyyy HH:mm:ss') AS agora_formatado_brasil_Completo,\n",
    "year(from_utc_timestamp(current_timestamp(), 'America/Sao_Paulo')) as ano,\n",
    "month(from_utc_timestamp(current_timestamp(), 'America/Sao_Paulo')) as mes,\n",
    "day(from_utc_timestamp(current_timestamp(), 'America/Sao_Paulo')) as dia,\n",
    "hour(from_utc_timestamp(current_timestamp(), 'America/Sao_Paulo')) as hora,\n",
    "minute(from_utc_timestamp(current_timestamp(), 'America/Sao_Paulo')) as minuto,\n",
    "second(from_utc_timestamp(current_timestamp(), 'America/Sao_Paulo')) as segundo\n",
    "from tabela_ordens"
   ]
  },
  {
   "cell_type": "code",
   "execution_count": 0,
   "metadata": {
    "application/vnd.databricks.v1+cell": {
     "cellMetadata": {
      "byteLimit": 2048000,
      "implicitDf": true,
      "rowLimit": 10000
     },
     "inputWidgets": {},
     "nuid": "592d81aa-4036-49d9-95ac-82b0adce007f",
     "showTitle": false,
     "tableResultSettingsMap": {},
     "title": ""
    }
   },
   "outputs": [],
   "source": [
    "%sql \n",
    "-- dados maior que certa data \n",
    " SELECT * FROM tabela_ordens WHERE order_date >= '2016-01-01' -- Obs o padrao é ano-mes-dia\n"
   ]
  },
  {
   "cell_type": "code",
   "execution_count": 0,
   "metadata": {
    "application/vnd.databricks.v1+cell": {
     "cellMetadata": {
      "byteLimit": 2048000,
      "implicitDf": true,
      "rowLimit": 10000
     },
     "inputWidgets": {},
     "nuid": "b8004fa6-68d2-48f5-8d23-bad7bb5312ce",
     "showTitle": false,
     "tableResultSettingsMap": {},
     "title": ""
    }
   },
   "outputs": [],
   "source": [
    "%sql \n",
    "-- quantos anos tenho de registro na base?\n",
    " SELECT distinct \n",
    " year(order_date) \n",
    " FROM tabela_ordens "
   ]
  },
  {
   "cell_type": "code",
   "execution_count": 0,
   "metadata": {
    "application/vnd.databricks.v1+cell": {
     "cellMetadata": {
      "byteLimit": 2048000,
      "implicitDf": true,
      "rowLimit": 10000
     },
     "inputWidgets": {},
     "nuid": "f0ea10e4-ee76-4957-811e-e93c6fc39b1e",
     "showTitle": false,
     "tableResultSettingsMap": {},
     "title": ""
    }
   },
   "outputs": [],
   "source": [
    "%sql \n",
    "--Dados entre 2017  e 2018\n",
    "SELECT * FROM tabela_ordens\n",
    " WHERE year(order_date) BETWEEN 2017 and 2018"
   ]
  },
  {
   "cell_type": "code",
   "execution_count": 0,
   "metadata": {
    "application/vnd.databricks.v1+cell": {
     "cellMetadata": {
      "byteLimit": 2048000,
      "implicitDf": true,
      "rowLimit": 10000
     },
     "inputWidgets": {},
     "nuid": "a2a8a305-6e3d-441f-b73b-d74804b092c9",
     "showTitle": false,
     "tableResultSettingsMap": {},
     "title": ""
    }
   },
   "outputs": [],
   "source": [
    "%sql \n",
    "--Dados entre datas espesificas \n",
    "SELECT * FROM tabela_ordens\n",
    "WHERE order_date BETWEEN '2017-01-04' and '2018-01-01' \n",
    " -- Obs o padrao é ano-mes-dia "
   ]
  },
  {
   "cell_type": "code",
   "execution_count": 0,
   "metadata": {
    "application/vnd.databricks.v1+cell": {
     "cellMetadata": {
      "byteLimit": 2048000,
      "implicitDf": true,
      "rowLimit": 10000
     },
     "inputWidgets": {},
     "nuid": "5d2fec91-eefc-45b8-9453-2f40123d473d",
     "showTitle": false,
     "tableResultSettingsMap": {},
     "title": ""
    }
   },
   "outputs": [],
   "source": [
    "%sql\n",
    "select * ,\n",
    "date_format(order_date, 'yyyy-MM-dd HH:mm:ss') AS ptbr,\n",
    "date_format(order_date, 'dd/MM/yyyy') AS dataformatada,\n",
    "date_format(order_date, 'dd/MM/yyyy HH:mm:ss') AS datahora\n",
    "\n",
    "from tabela_ordens"
   ]
  },
  {
   "cell_type": "code",
   "execution_count": 0,
   "metadata": {
    "application/vnd.databricks.v1+cell": {
     "cellMetadata": {
      "byteLimit": 2048000,
      "rowLimit": 10000
     },
     "inputWidgets": {},
     "nuid": "2f04a091-e487-48b7-9a8a-1f65ae9d4819",
     "showTitle": false,
     "tableResultSettingsMap": {},
     "title": ""
    }
   },
   "outputs": [],
   "source": [
    "#Salvar consulta em um Df para trabalhar com Python ou salvar como qualqer tipo de arquivo \n",
    "\n",
    "resultado = spark.sql(\n",
    "    \n",
    "\"\"\"\n",
    "select * ,\n",
    "date_format(order_date, 'yyyy-MM-dd HH:mm:ss') AS ptbr,\n",
    "date_format(order_date, 'dd/MM/yyyy') AS dataformatada,\n",
    "date_format(order_date, 'dd/MM/yyyy HH:mm:ss') AS datahora\n",
    "\n",
    "from tabela_ordens                \n",
    "\n",
    "\n",
    "\n",
    "\"\"\")\n",
    "\n",
    "\n",
    "display(resultado)\n"
   ]
  },
  {
   "cell_type": "code",
   "execution_count": 0,
   "metadata": {
    "application/vnd.databricks.v1+cell": {
     "cellMetadata": {},
     "inputWidgets": {},
     "nuid": "c0c2334b-c450-424b-8fe7-d68cbe8cbca4",
     "showTitle": false,
     "tableResultSettingsMap": {},
     "title": ""
    }
   },
   "outputs": [],
   "source": []
  }
 ],
 "metadata": {
  "application/vnd.databricks.v1+notebook": {
   "computePreferences": null,
   "dashboards": [],
   "environmentMetadata": {
    "base_environment": "",
    "environment_version": "2"
   },
   "inputWidgetPreferences": null,
   "language": "python",
   "notebookMetadata": {
    "mostRecentlyExecutedCommandWithImplicitDF": {
     "commandId": 6490268397757894,
     "dataframes": [
      "_sqldf"
     ]
    },
    "pythonIndentUnit": 4
   },
   "notebookName": "11. Conversão de dados",
   "widgets": {}
  },
  "language_info": {
   "name": "python"
  }
 },
 "nbformat": 4,
 "nbformat_minor": 0
}