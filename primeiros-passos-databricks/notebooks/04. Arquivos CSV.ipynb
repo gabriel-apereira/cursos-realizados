{
 "cells": [
  {
   "cell_type": "code",
   "execution_count": 0,
   "metadata": {
    "application/vnd.databricks.v1+cell": {
     "cellMetadata": {
      "byteLimit": 2048000,
      "rowLimit": 10000
     },
     "inputWidgets": {},
     "nuid": "c53d14bc-9550-4a7d-8515-ada3962f62b8",
     "showTitle": false,
     "tableResultSettingsMap": {},
     "title": ""
    }
   },
   "outputs": [],
   "source": [
    "#Treino obs(estrutura vai servir para outros formatos)\n",
    "df = spark.read\\                    # Modo de Leitura do spark\n",
    "    .format(\"csv\")\\                 # Formato do Arquivo\n",
    "    .option(\"skipRows\", 1)\\         # Quantas Linhas Pular\n",
    "    .option(\"header\", True)\\        # 1° linha é o Cabeçalho\n",
    "    .option(\"sep\", \";\")\\            # Separador do CSV\n",
    "    .option(\"inferSchema\", True)\\   # inserir os tipos de Dados automaticamente\n",
    "    .load(\"/Volumes/workspace/default/arquivos-cursoudemy/Anac/V_OCORRENCIA_AMPLA.csv\") # Comando para Carregar o Arquivo\n",
    "display(df)"
   ]
  },
  {
   "cell_type": "code",
   "execution_count": 0,
   "metadata": {
    "application/vnd.databricks.v1+cell": {
     "cellMetadata": {
      "byteLimit": 2048000,
      "rowLimit": 10000
     },
     "inputWidgets": {},
     "nuid": "e5104090-9c90-4f44-b37e-c01d4c9e32c3",
     "showTitle": false,
     "tableResultSettingsMap": {},
     "title": ""
    }
   },
   "outputs": [],
   "source": [
    "%fs ls /Volumes/workspace/default/arquivos-cursoudemy/Anac/"
   ]
  },
  {
   "cell_type": "code",
   "execution_count": 0,
   "metadata": {
    "application/vnd.databricks.v1+cell": {
     "cellMetadata": {
      "byteLimit": 2048000,
      "rowLimit": 10000
     },
     "inputWidgets": {},
     "nuid": "3310c9fa-d950-46fb-910f-1a508d95a5e0",
     "showTitle": false,
     "tableResultSettingsMap": {
      "0": {
       "dataGridStateBlob": "{\"version\":1,\"tableState\":{\"columnPinning\":{\"left\":[\"#row_number#\"],\"right\":[]},\"columnSizing\":{},\"columnVisibility\":{}},\"settings\":{\"columns\":{}},\"syncTimestamp\":1752782714963}",
       "filterBlob": null,
       "queryPlanFiltersBlob": null,
       "tableResultIndex": 0
      }
     },
     "title": ""
    }
   },
   "outputs": [],
   "source": [
    "caminho_csv = 'dbfs:/Volumes/workspace/default/arquivos-cursoudemy/Anac/V_OCORRENCIA_AMPLA.csv'\n",
    "\n",
    "df = spark.read\\\n",
    "            .format('csv')\\\n",
    "            .option('skipRows',1)\\\n",
    "            .option('header',True)\\\n",
    "            .option('sep',';')\\\n",
    "            .option('inferSchema',True)\\\n",
    "            .load(caminho_csv)\n",
    "display(df)\n"
   ]
  },
  {
   "cell_type": "code",
   "execution_count": 0,
   "metadata": {
    "application/vnd.databricks.v1+cell": {
     "cellMetadata": {
      "byteLimit": 2048000,
      "rowLimit": 10000
     },
     "inputWidgets": {},
     "nuid": "de13d484-8276-40cd-9c26-797b49ca3ab3",
     "showTitle": false,
     "tableResultSettingsMap": {},
     "title": ""
    }
   },
   "outputs": [],
   "source": [
    "#Salvando em arquivo comprimido (melhor para questoes de armazenamento em nuvem onde paga pelo tanto que armazena)\n",
    "df.write\\\n",
    "    .format('csv')\\\n",
    "    .option(\"compression\",\"gzip\")\\\n",
    "    .option('header',True)\\\n",
    "    .option('sep',';')\\\n",
    "    .mode('overwrite')\\\n",
    "    .save('/Volumes/workspace/default/arquivos-cursoudemy/Anac/V_OCORRENCIA_AMPLA-zip')"
   ]
  },
  {
   "cell_type": "code",
   "execution_count": 0,
   "metadata": {
    "application/vnd.databricks.v1+cell": {
     "cellMetadata": {
      "byteLimit": 2048000,
      "rowLimit": 10000
     },
     "inputWidgets": {},
     "nuid": "26c3871b-bbd4-41a0-86c9-48bd496bad28",
     "showTitle": false,
     "tableResultSettingsMap": {},
     "title": ""
    }
   },
   "outputs": [],
   "source": [
    "%fs ls /Volumes/workspace/default/arquivos-cursoudemy/Anac/V_OCORRENCIA_AMPLA-zip"
   ]
  },
  {
   "cell_type": "code",
   "execution_count": 0,
   "metadata": {
    "application/vnd.databricks.v1+cell": {
     "cellMetadata": {
      "byteLimit": 2048000,
      "rowLimit": 10000
     },
     "inputWidgets": {},
     "nuid": "5d63f3a0-0def-452d-8e8e-36eaf2287757",
     "showTitle": false,
     "tableResultSettingsMap": {},
     "title": ""
    }
   },
   "outputs": [],
   "source": [
    "#Ler arquivo comprimido\n",
    "df_novo = spark.read\\\n",
    "    .option(\"compression\",'gzip')\\\n",
    "        .option(\"header\",True)\\\n",
    "            .option(\"inferSchema\",True)\\\n",
    "                .option(\"sep\",\";\")\\\n",
    "                    .csv('/Volumes/workspace/default/arquivos-cursoudemy/Anac/V_OCORRENCIA_AMPLA-zip')\n",
    "display(df_novo)"
   ]
  },
  {
   "cell_type": "code",
   "execution_count": 0,
   "metadata": {
    "application/vnd.databricks.v1+cell": {
     "cellMetadata": {
      "byteLimit": 2048000,
      "rowLimit": 10000
     },
     "inputWidgets": {},
     "nuid": "a12aeb89-84e2-4983-b48a-fb3eb8261c95",
     "showTitle": false,
     "tableResultSettingsMap": {},
     "title": ""
    }
   },
   "outputs": [],
   "source": [
    "# pesquisar google dados gov dados publicos\n",
    "# https://dados.gov.br/dados/conjuntos-dados\n",
    "# Defesa e segurança Formato csv > Recursos\n",
    "# https://dados.gov.br/dados/conjuntos-dados/ocorrencias-aeronuticas"
   ]
  },
  {
   "cell_type": "code",
   "execution_count": 0,
   "metadata": {
    "application/vnd.databricks.v1+cell": {
     "cellMetadata": {
      "byteLimit": 2048000,
      "rowLimit": 10000
     },
     "inputWidgets": {},
     "nuid": "2c44547d-63c9-4570-8d4a-db52465310b2",
     "showTitle": false,
     "tableResultSettingsMap": {},
     "title": ""
    }
   },
   "outputs": [],
   "source": [
    "%fs ls /Volumes/workspace/default/arquivos-cursoudemy/Anac/\n",
    "\n"
   ]
  },
  {
   "cell_type": "code",
   "execution_count": 0,
   "metadata": {
    "application/vnd.databricks.v1+cell": {
     "cellMetadata": {
      "byteLimit": 2048000,
      "rowLimit": 10000
     },
     "inputWidgets": {},
     "nuid": "f556461b-1a05-4060-b799-cbec700b25fe",
     "showTitle": false,
     "tableResultSettingsMap": {},
     "title": ""
    }
   },
   "outputs": [],
   "source": [
    "#dbutils.fs.mkdirs(/Volumes/workspace/default/arquivos-cursoudemy/Anac/)"
   ]
  },
  {
   "cell_type": "code",
   "execution_count": 0,
   "metadata": {
    "application/vnd.databricks.v1+cell": {
     "cellMetadata": {
      "byteLimit": 2048000,
      "rowLimit": 10000
     },
     "inputWidgets": {},
     "nuid": "b3000e6e-842b-4ec8-9082-c6ade808eec0",
     "showTitle": false,
     "tableResultSettingsMap": {},
     "title": ""
    }
   },
   "outputs": [],
   "source": [
    "#modo anterior\n",
    "caminho_csv = 'dbfs:/Volumes/workspace/default/arquivos-cursoudemy/Anac/V_OCORRENCIA_AMPLA.csv'\n",
    "\n",
    "df_csv = spark.read.csv(caminho_csv)\n",
    "display(df_csv)"
   ]
  },
  {
   "cell_type": "code",
   "execution_count": 0,
   "metadata": {
    "application/vnd.databricks.v1+cell": {
     "cellMetadata": {
      "byteLimit": 2048000,
      "rowLimit": 10000
     },
     "inputWidgets": {},
     "nuid": "47f8e593-7a94-4414-b691-e19c586a151f",
     "showTitle": false,
     "tableResultSettingsMap": {},
     "title": ""
    }
   },
   "outputs": [],
   "source": [
    "#Passando Opções avançadas \n",
    "df_csv = spark.read\\\n",
    "    .format(\"csv\")\\\n",
    "    .option(\"skipRows\", 1)\\\n",
    "    .option(\"header\", True)\\\n",
    "    .option(\"sep\", \";\")\\\n",
    "    .option(\"inferSchema\", True)\\\n",
    "    .load(caminho_csv)\n",
    "display(df_csv)"
   ]
  },
  {
   "cell_type": "code",
   "execution_count": 0,
   "metadata": {
    "application/vnd.databricks.v1+cell": {
     "cellMetadata": {
      "byteLimit": 2048000,
      "rowLimit": 10000
     },
     "inputWidgets": {},
     "nuid": "e8d1c0e3-987d-441d-bedb-61e79cc155fc",
     "showTitle": false,
     "tableResultSettingsMap": {},
     "title": ""
    }
   },
   "outputs": [],
   "source": [
    "#Treino obs(estrutura vai server para outros formatos)\n",
    "df = spark.read\\                    # Modo de Leitura do spark\n",
    "    .format(\"csv\")\\                 # Formato do Arquivo\n",
    "    .option(\"skipRows\", 1)\\         # Quantas Linhas Pular\n",
    "    .option(\"header\", True)\\        # 1° linha é o Cabeçalho\n",
    "    .option(\"sep\", \";\")\\            # Separador do CSV\n",
    "    .option(\"inferSchema\", True)\\   # inserir os tipos de Dados automaticamente\n",
    "    .load(\"/FileStore/tables/Anac/V_OCORRENCIA_AMPLA.csv\")              # Comando para Carregar o Arquivo\n",
    "display(df)"
   ]
  },
  {
   "cell_type": "markdown",
   "metadata": {
    "application/vnd.databricks.v1+cell": {
     "cellMetadata": {
      "byteLimit": 2048000,
      "rowLimit": 10000
     },
     "inputWidgets": {},
     "nuid": "e306e4fd-7df3-4b98-bcf8-b517329c90ee",
     "showTitle": false,
     "tableResultSettingsMap": {},
     "title": ""
    }
   },
   "source": [
    "Gambiarra"
   ]
  },
  {
   "cell_type": "code",
   "execution_count": 0,
   "metadata": {
    "application/vnd.databricks.v1+cell": {
     "cellMetadata": {
      "byteLimit": 2048000,
      "rowLimit": 10000
     },
     "inputWidgets": {},
     "nuid": "464a6cbe-4485-400f-a330-dcfe01143930",
     "showTitle": false,
     "tableResultSettingsMap": {},
     "title": ""
    }
   },
   "outputs": [],
   "source": [
    "caminho_csvsha = '/Volumes/workspace/default/arquivos-cursoudemy/DiferentesSaidas/ContatoSha.csv/'\n",
    "df_csvsha = spark.read.csv(caminho_csvsha,header=False,inferSchema=True)\n",
    "\n",
    "display(df_csvsha)"
   ]
  },
  {
   "cell_type": "code",
   "execution_count": 0,
   "metadata": {
    "application/vnd.databricks.v1+cell": {
     "cellMetadata": {
      "byteLimit": 2048000,
      "rowLimit": 10000
     },
     "inputWidgets": {},
     "nuid": "2f1bf2fd-575a-44a0-ad02-0d6690055b04",
     "showTitle": false,
     "tableResultSettingsMap": {},
     "title": ""
    }
   },
   "outputs": [],
   "source": [
    "#Renoameando colunas\n",
    "df_csvsha = df_csvsha.withColumnRenamed(\"_c0\",\"id\")\\\n",
    "    .withColumnRenamed(\"_c1\",\"nome\")\\\n",
    "        .withColumnRenamed(\"_c2\",\"Telefone\")\\\n",
    "            .withColumnRenamed(\"_c3\",\"email\")\n",
    "display(df_csvsha)"
   ]
  },
  {
   "cell_type": "markdown",
   "metadata": {
    "application/vnd.databricks.v1+cell": {
     "cellMetadata": {
      "byteLimit": 2048000,
      "rowLimit": 10000
     },
     "inputWidgets": {},
     "nuid": "afc457a5-3dde-4509-9c76-3423c2e23358",
     "showTitle": false,
     "tableResultSettingsMap": {},
     "title": ""
    }
   },
   "source": [
    "Arquivos compactados"
   ]
  },
  {
   "cell_type": "code",
   "execution_count": 0,
   "metadata": {
    "application/vnd.databricks.v1+cell": {
     "cellMetadata": {
      "byteLimit": 2048000,
      "rowLimit": 10000
     },
     "inputWidgets": {},
     "nuid": "534b404c-e147-47d1-931b-16c13f7b57a8",
     "showTitle": false,
     "tableResultSettingsMap": {},
     "title": ""
    }
   },
   "outputs": [],
   "source": [
    "caminho_csv = 'dbfs:/Volumes/workspace/default/arquivos-cursoudemy/Anac/V_OCORRENCIA_AMPLA.csv'\n",
    "\n",
    "df = spark.read\\\n",
    "            .format('csv')\\\n",
    "            .option('skipRows',1)\\\n",
    "            .option('header',True)\\\n",
    "            .option('sep',';')\\\n",
    "            .option('inferSchema',True)\\\n",
    "            .load(caminho_csv)\n",
    "display(df)"
   ]
  },
  {
   "cell_type": "code",
   "execution_count": 0,
   "metadata": {
    "application/vnd.databricks.v1+cell": {
     "cellMetadata": {
      "byteLimit": 2048000,
      "rowLimit": 10000
     },
     "inputWidgets": {},
     "nuid": "4a98d741-9142-4259-bd60-b40d88dde4b8",
     "showTitle": false,
     "tableResultSettingsMap": {},
     "title": ""
    }
   },
   "outputs": [],
   "source": [
    "#Salvando comprimido (melhor para armazenar e diminuir custos)\n",
    "df.write\\\n",
    "    .format('csv')\\\n",
    "    .option('compression','gzip')\\\n",
    "    .option('header',True)\\\n",
    "    .option('sep',';')\\\n",
    "    .mode('overwrite')\\\n",
    "    .save('/Volumes/workspace/default/arquivos-cursoudemy/Anac/V_OCORRENCIA_AMPLA-zip')"
   ]
  },
  {
   "cell_type": "code",
   "execution_count": 0,
   "metadata": {
    "application/vnd.databricks.v1+cell": {
     "cellMetadata": {
      "byteLimit": 2048000,
      "rowLimit": 10000
     },
     "inputWidgets": {},
     "nuid": "9c09778a-457c-4a9b-8241-55032c7af210",
     "showTitle": false,
     "tableResultSettingsMap": {},
     "title": ""
    }
   },
   "outputs": [],
   "source": [
    "%fs ls /Volumes/workspace/default/arquivos-cursoudemy/Anac/"
   ]
  },
  {
   "cell_type": "code",
   "execution_count": 0,
   "metadata": {
    "application/vnd.databricks.v1+cell": {
     "cellMetadata": {
      "byteLimit": 2048000,
      "rowLimit": 10000
     },
     "inputWidgets": {},
     "nuid": "86cf69a0-90d0-4af9-a8ea-60cfa8ca7529",
     "showTitle": false,
     "tableResultSettingsMap": {},
     "title": ""
    }
   },
   "outputs": [],
   "source": [
    "%fs ls dbfs:/Volumes/workspace/default/arquivos-cursoudemy/Anac/V_OCORRENCIA_AMPLA-zip/"
   ]
  },
  {
   "cell_type": "markdown",
   "metadata": {
    "application/vnd.databricks.v1+cell": {
     "cellMetadata": {},
     "inputWidgets": {},
     "nuid": "690ea372-141d-4648-baa4-b35ee545eaa2",
     "showTitle": false,
     "tableResultSettingsMap": {},
     "title": ""
    }
   },
   "source": [
    "Lendo arquivos comprimidos"
   ]
  },
  {
   "cell_type": "code",
   "execution_count": 0,
   "metadata": {
    "application/vnd.databricks.v1+cell": {
     "cellMetadata": {
      "byteLimit": 2048000,
      "rowLimit": 10000
     },
     "inputWidgets": {},
     "nuid": "178c3a4b-5b95-4e03-b856-f00ba39dc68a",
     "showTitle": false,
     "tableResultSettingsMap": {},
     "title": ""
    }
   },
   "outputs": [],
   "source": [
    "dfzip = spark.read\\\n",
    "    .option(\"compression\",'gzip')\\\n",
    "        .option(\"header\",True)\\\n",
    "            .option(\"inferSchema\",True)\\\n",
    "                .option(\"sep\",\";\")\\\n",
    "                    .csv('/Volumes/workspace/default/arquivos-cursoudemy/Anac/V_OCORRENCIA_AMPLA-zip')\n",
    "display(dfzip)"
   ]
  },
  {
   "cell_type": "markdown",
   "metadata": {
    "application/vnd.databricks.v1+cell": {
     "cellMetadata": {},
     "inputWidgets": {},
     "nuid": "c98b4b3f-1dd4-4dda-959a-6fba05a27d33",
     "showTitle": false,
     "tableResultSettingsMap": {},
     "title": ""
    }
   },
   "source": [
    "Renomeando arquivo"
   ]
  },
  {
   "cell_type": "code",
   "execution_count": 0,
   "metadata": {
    "application/vnd.databricks.v1+cell": {
     "cellMetadata": {
      "byteLimit": 2048000,
      "rowLimit": 10000
     },
     "inputWidgets": {},
     "nuid": "c91de025-0c09-4c10-8a7f-b204d1e99ad0",
     "showTitle": false,
     "tableResultSettingsMap": {},
     "title": ""
    }
   },
   "outputs": [],
   "source": [
    "#Arquivo antigo= '/Volumes/workspace/default/arquivos-cursoudemy/Anac/V_OCORRENCIA_AMPLA-zip'\n",
    "\n",
    "dbutils.fs.mv('/Volumes/workspace/default/arquivos-cursoudemy/Anac/V_OCORRENCIA_AMPLA-zip','/Volumes/workspace/default/arquivos-cursoudemy/Anac/csv_zip',recurse=True)\n",
    "\n",
    "# dbutils.fs.mv + arquivo caminho completo do que qer mudaro nome + caminho como novo nome  + recurse=True para alterar tudo dentro da pasta que for nescessário"
   ]
  },
  {
   "cell_type": "code",
   "execution_count": 0,
   "metadata": {
    "application/vnd.databricks.v1+cell": {
     "cellMetadata": {},
     "inputWidgets": {},
     "nuid": "929a300d-7a96-40bb-aba3-4505b674c9b1",
     "showTitle": false,
     "tableResultSettingsMap": {},
     "title": ""
    }
   },
   "outputs": [],
   "source": []
  }
 ],
 "metadata": {
  "application/vnd.databricks.v1+notebook": {
   "computePreferences": null,
   "dashboards": [],
   "environmentMetadata": {
    "base_environment": "",
    "environment_version": "2"
   },
   "inputWidgetPreferences": null,
   "language": "python",
   "notebookMetadata": {
    "mostRecentlyExecutedCommandWithImplicitDF": {
     "commandId": 5774266998346464,
     "dataframes": [
      "_sqldf"
     ]
    },
    "pythonIndentUnit": 4
   },
   "notebookName": "04. Arquivos CSV",
   "widgets": {}
  },
  "language_info": {
   "name": "python"
  }
 },
 "nbformat": 4,
 "nbformat_minor": 0
}